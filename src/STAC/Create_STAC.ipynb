{
 "cells": [
  {
   "cell_type": "markdown",
   "metadata": {},
   "source": [
    "# Create STAC Catalog of .laz Files\n",
    "CFolkers\n",
    "Geospatial Services \n",
    "2024 03 04\n",
    "\n",
    "modified from https://github.com/stac-utils/pystac/blob/8079dd3c0cbe8f6f9e48f499ea90f6a5798eaeab/docs/tutorials/how-to-create-stac-catalogs.ipynb"
   ]
  },
  {
   "cell_type": "code",
   "execution_count": 22,
   "metadata": {},
   "outputs": [],
   "source": [
    "import os \n",
    "import pystac\n",
    "from pystac import Link\n",
    "from pystac.stac_io import DefaultStacIO\n",
    "from botocore import UNSIGNED\n",
    "from botocore.config import Config\n",
    "import boto3\n",
    "import constants\n",
    "import os\n",
    "import urllib.request\n",
    "import json\n",
    "from typing import Union, Any\n",
    "from urllib.parse import urlparse\n",
    "from shapely.geometry import Polygon, mapping,shape, MultiPolygon\n",
    "\n",
    "from datetime import datetime"
   ]
  },
  {
   "cell_type": "code",
   "execution_count": 2,
   "metadata": {},
   "outputs": [],
   "source": [
    "#list .laz objects in bucket\n",
    "object_key=r'STAC_LiDAR/PointClouds/'\n",
    "#s3 storage location for json files\n",
    "json_key=r'STAC_LiDAR/JSON/'"
   ]
  },
  {
   "cell_type": "code",
   "execution_count": 3,
   "metadata": {},
   "outputs": [],
   "source": [
    "# use third party object storage to create an S3 Client\n",
    "s3_client = boto3.client(\n",
    "    \"s3\",\n",
    "    endpoint_url=constants.AWS_S3_ENDPOINT,\n",
    "    aws_access_key_id=constants.AWS_ACCESS_KEY_ID,\n",
    "    aws_secret_access_key=constants.AWS_SECRET_ACCESS_KEY,\n",
    ")\n",
    "# for some reason the bucket is adding an extra letter at the end???\n",
    "test_bucket = constants.AWS_S3_BUCKET"
   ]
  },
  {
   "cell_type": "code",
   "execution_count": 4,
   "metadata": {},
   "outputs": [],
   "source": [
    "class CustomStacIO(DefaultStacIO):\n",
    "    def __init__(self):\n",
    "        self.s3_client = boto3.resource(\"s3\")\n",
    "        super().__init__()\n",
    "\n",
    "    def read_text(self, source: Union[str, Link], *args: Any, **kwargs: Any) -> str:\n",
    "        parsed = urlparse(source)\n",
    "        if parsed.scheme == \"s3\":\n",
    "            bucket = parsed.netloc\n",
    "            key = parsed.path[1:]\n",
    "\n",
    "            obj = self.s3_client.Object(bucket, key)\n",
    "            return obj.get()[\"Body\"].read().decode(\"utf-8\")\n",
    "        else:\n",
    "            return super().read_text(source, *args, **kwargs)\n",
    "\n",
    "    def write_text(\n",
    "        self, dest: Union[str, Link], txt: str, *args: Any, **kwargs: Any\n",
    "    ) -> None:\n",
    "        parsed = urlparse(dest)\n",
    "        if parsed.scheme == \"s3\":\n",
    "            bucket = parsed.netloc\n",
    "            key = parsed.path[1:]\n",
    "            self.s3_client.Object(bucket, key).put(Body=txt, ContentEncoding=\"utf-8\")\n",
    "        else:\n",
    "            super().write_text(dest, txt, *args, **kwargs)\n"
   ]
  },
  {
   "cell_type": "code",
   "execution_count": 7,
   "metadata": {},
   "outputs": [
    {
     "name": "stdout",
     "output_type": "stream",
     "text": [
      "{'STAC_LiDAR/PointClouds/bc_092o018_3_2_4_xyes_12_utm10_2018.laz': 'STAC_LiDAR/JSON/bc_092o018_3_2_4_xyes_12_utm10_2018.json', 'STAC_LiDAR/PointClouds/bc_092o018_3_4_2_xyes_12_utm10_2018.laz': 'STAC_LiDAR/JSON/bc_092o018_3_4_2_xyes_12_utm10_2018.json', 'STAC_LiDAR/PointClouds/bc_092o018_3_4_4_xyes_12_utm10_2018.laz': 'STAC_LiDAR/JSON/bc_092o018_3_4_4_xyes_12_utm10_2018.json', 'STAC_LiDAR/PointClouds/bc_092o018_4_1_3_xyes_12_utm10_2018.laz': 'STAC_LiDAR/JSON/bc_092o018_4_1_3_xyes_12_utm10_2018.json', 'STAC_LiDAR/PointClouds/bc_092o018_4_1_4_xyes_12_utm10_2018.laz': 'STAC_LiDAR/JSON/bc_092o018_4_1_4_xyes_12_utm10_2018.json', 'STAC_LiDAR/PointClouds/bc_092o018_4_3_1_xyes_12_utm10_2018.laz': 'STAC_LiDAR/JSON/bc_092o018_4_3_1_xyes_12_utm10_2018.json', 'STAC_LiDAR/PointClouds/bc_092o018_4_3_2_xyes_12_utm10_2018.laz': 'STAC_LiDAR/JSON/bc_092o018_4_3_2_xyes_12_utm10_2018.json', 'STAC_LiDAR/PointClouds/bc_092o018_4_3_3_xyes_12_utm10_2018.laz': 'STAC_LiDAR/JSON/bc_092o018_4_3_3_xyes_12_utm10_2018.json', 'STAC_LiDAR/PointClouds/bc_092o018_4_3_4_xyes_12_utm10_2018.laz': 'STAC_LiDAR/JSON/bc_092o018_4_3_4_xyes_12_utm10_2018.json'}\n",
      "{'0': {'laz': 's3://rczimv/STAC_LiDAR/PointClouds/bc_092o018_3_2_4_xyes_12_utm10_2018.laz'}, '1': {'laz': 's3://rczimv/STAC_LiDAR/PointClouds/bc_092o018_3_4_2_xyes_12_utm10_2018.laz'}, '2': {'laz': 's3://rczimv/STAC_LiDAR/PointClouds/bc_092o018_3_4_4_xyes_12_utm10_2018.laz'}, '3': {'laz': 's3://rczimv/STAC_LiDAR/PointClouds/bc_092o018_4_1_3_xyes_12_utm10_2018.laz'}, '4': {'laz': 's3://rczimv/STAC_LiDAR/PointClouds/bc_092o018_4_1_4_xyes_12_utm10_2018.laz'}, '5': {'laz': 's3://rczimv/STAC_LiDAR/PointClouds/bc_092o018_4_3_1_xyes_12_utm10_2018.laz'}, '6': {'laz': 's3://rczimv/STAC_LiDAR/PointClouds/bc_092o018_4_3_2_xyes_12_utm10_2018.laz'}, '7': {'laz': 's3://rczimv/STAC_LiDAR/PointClouds/bc_092o018_4_3_3_xyes_12_utm10_2018.laz'}, '8': {'laz': 's3://rczimv/STAC_LiDAR/PointClouds/bc_092o018_4_3_4_xyes_12_utm10_2018.laz'}}\n"
     ]
    }
   ],
   "source": [
    "#need more dynamic way to create dictionary in case there things are not in order, or missing values \n",
    "# also not sure which dict I can keep\n",
    "#laz dict returns a dict of s3 locations for laz:json, maybe do this the same as below dict of dict with index as first key, then laz:json?\n",
    "#laz_items_id returns a dict of dicts of index_num:{'type':stac location}\n",
    "\n",
    "laz_dict={}\n",
    "laz_items_id={}\n",
    "\n",
    "laz_response = s3_client.list_objects_v2(Bucket=test_bucket, Prefix=object_key, StartAfter=object_key)\n",
    "json_repsone= s3_client.list_objects_v2(Bucket=test_bucket, Prefix=json_key, StartAfter=json_key)\n",
    "if 'Contents' in laz_response and 'Contents' in json_repsone:\n",
    "    # Iterate over objects and print their names\n",
    "    for index, (key, value) in enumerate(zip(laz_response['Contents'],json_repsone['Contents'])):\n",
    "        laz_dict[key['Key']]=value['Key']\n",
    "        laz_items_id[str(index)]={\"laz\":f\"s3://{test_bucket}/{key['Key']}\"}\n",
    "else:\n",
    "    print(\"No objects found in the bucket.\")\n",
    "print(laz_dict)\n",
    "print(laz_items_id)"
   ]
  },
  {
   "cell_type": "code",
   "execution_count": 21,
   "metadata": {},
   "outputs": [
    {
     "name": "stdout",
     "output_type": "stream",
     "text": [
      "Processing STAC_LiDAR/PointClouds/bc_092o018_3_2_4_xyes_12_utm10_2018.laz\n",
      "Processing STAC_LiDAR/PointClouds/bc_092o018_3_4_2_xyes_12_utm10_2018.laz\n",
      "Processing STAC_LiDAR/PointClouds/bc_092o018_3_4_4_xyes_12_utm10_2018.laz\n",
      "Processing STAC_LiDAR/PointClouds/bc_092o018_4_1_3_xyes_12_utm10_2018.laz\n",
      "Processing STAC_LiDAR/PointClouds/bc_092o018_4_1_4_xyes_12_utm10_2018.laz\n",
      "Processing STAC_LiDAR/PointClouds/bc_092o018_4_3_1_xyes_12_utm10_2018.laz\n",
      "Processing STAC_LiDAR/PointClouds/bc_092o018_4_3_2_xyes_12_utm10_2018.laz\n",
      "Processing STAC_LiDAR/PointClouds/bc_092o018_4_3_3_xyes_12_utm10_2018.laz\n",
      "Processing STAC_LiDAR/PointClouds/bc_092o018_4_3_4_xyes_12_utm10_2018.laz\n"
     ]
    }
   ],
   "source": [
    "laz_id_to_items={}\n",
    "os.environ[\"AWS_NO_SIGN_REQUEST\"] = \"true\"\n",
    "s3 = boto3.resource('s3')\n",
    "for id, laz in zip(laz_items_id,laz_dict):\n",
    "    # laz_uri=laz_items_id[id]['laz']\n",
    "    laz_uri=laz\n",
    "    print(f\"Processing {laz_uri}\")\n",
    "    #read json for corresponding laz file from s3 \n",
    "    laz_json=s3_client.get_object(Bucket=test_bucket, Key=laz_dict[laz])\n",
    "    json_text = laz_json[\"Body\"].read().decode()\n",
    "    json_content= json.loads(json_text)\n",
    "\n",
    "    # Extract bbox coordinates\n",
    "    bbox_coords = json_content['bbox']\n",
    "    left, bottom, right, top = bbox_coords[0], bbox_coords[1], bbox_coords[3], bbox_coords[4]   \n",
    "    # Create bounding box\n",
    "    bbox = [left, bottom, right, top]\n",
    "    footprint = Polygon([(left, bottom), (right, bottom), (right, top), (left, top), (left, bottom)])\n",
    "    footprint=mapping(footprint)\n",
    "    \n",
    "    item=pystac.Item(\n",
    "        id=f\"laz{id}\", \n",
    "        geometry=footprint,\n",
    "        bbox=bbox,\n",
    "        datetime=datetime.utcnow(),\n",
    "        properties={},\n",
    "    )\n",
    "    \n",
    "    #look to see if any of the common_metadata would be good for us\n",
    "    # maybe license?\n",
    "    #https://pystac.readthedocs.io/en/latest/api/common_metadata.html\n",
    "    # item.common_metadata.gsd = 0.3\n",
    "    # item.common_metadata.platform = \"Maxar\"\n",
    "    # item.common_metadata.instruments = [\"WorldView3\"]\n",
    "    \n",
    "    \n",
    "    #should this be the laz file and not the json?!?!?!?! but there is no media type for laz\n",
    "    #https://pystac.readthedocs.io/en/stable/api/media_type.html\n",
    "    \n",
    "    asset = pystac.Asset(href=laz_dict[laz], media_type=pystac.MediaType.JSON)\n",
    "    item.add_asset(key=\"bc\", asset=asset)\n",
    "    \n",
    "    laz_items_id[id] = item\n",
    "    \n"
   ]
  },
  {
   "cell_type": "code",
   "execution_count": 26,
   "metadata": {},
   "outputs": [
    {
     "data": {
      "text/plain": [
       "[<Link rel=item target=<Item id=laz0>>,\n",
       " <Link rel=item target=<Item id=laz1>>,\n",
       " <Link rel=item target=<Item id=laz2>>,\n",
       " <Link rel=item target=<Item id=laz3>>,\n",
       " <Link rel=item target=<Item id=laz4>>,\n",
       " <Link rel=item target=<Item id=laz5>>,\n",
       " <Link rel=item target=<Item id=laz6>>,\n",
       " <Link rel=item target=<Item id=laz7>>,\n",
       " <Link rel=item target=<Item id=laz8>>]"
      ]
     },
     "execution_count": 26,
     "metadata": {},
     "output_type": "execute_result"
    }
   ],
   "source": [
    "#Create collection\n",
    "footprints = list(map(lambda i: shape(i.geometry).envelope, laz_items_id.values()))\n",
    "collection_bbox = MultiPolygon(footprints).bounds\n",
    "spatial_extent = pystac.SpatialExtent(bboxes=[collection_bbox])\n",
    "datetimes = sorted(list(map(lambda i: i.datetime, laz_items_id.values())))\n",
    "temporal_extent = pystac.TemporalExtent(intervals=[[datetimes[0], datetimes[-1]]])\n",
    "collection_extent = pystac.Extent(spatial=spatial_extent, temporal=temporal_extent)\n",
    "\n",
    "collection = pystac.Collection(\n",
    "    id=\"Lidar-BC-Test\",\n",
    "    description=\"Test STAC of BC Open Lidar in STAC\",\n",
    "    extent=collection_extent,\n",
    "    license=\"BC Open Data \",\n",
    ")\n",
    "\n",
    "collection.add_items(laz_items_id.values())"
   ]
  },
  {
   "cell_type": "code",
   "execution_count": 27,
   "metadata": {},
   "outputs": [
    {
     "name": "stdout",
     "output_type": "stream",
     "text": [
      "* <Collection id=Lidar-BC-Test>\n",
      "  * <Item id=laz0>\n",
      "  * <Item id=laz1>\n",
      "  * <Item id=laz2>\n",
      "  * <Item id=laz3>\n",
      "  * <Item id=laz4>\n",
      "  * <Item id=laz5>\n",
      "  * <Item id=laz6>\n",
      "  * <Item id=laz7>\n",
      "  * <Item id=laz8>\n"
     ]
    }
   ],
   "source": [
    "collection.describe()"
   ]
  },
  {
   "cell_type": "code",
   "execution_count": 28,
   "metadata": {},
   "outputs": [
    {
     "data": {
      "text/html": [
       "\n",
       "\n",
       "<style>\n",
       ".pystac-summary {\n",
       "    cursor: pointer;\n",
       "    display:list-item;\n",
       "}\n",
       ".pystac-key {\n",
       "    color: rgb(0, 128, 0);\n",
       "    font-weight: 700;\n",
       "}\n",
       ".pystac-key-value {\n",
       "    display: inline-block;\n",
       "    margin: 0px 0.5em 0px 0px;\n",
       "}\n",
       "</style>\n",
       "<div class=\"jp-RenderedJSON jp-mod-trusted jp-OutputArea-output\">\n",
       "    <div class=\"container\" style=\"line-height: normal;\">\n",
       "        <ul style=\"padding: 0px; margin: 0px; list-style: none; display: block;\">\n",
       "            \n",
       "                \n",
       "                    \n",
       "        <li style=\"overflow-wrap: break-word; padding-left: 2.125em; text-indent: -0.5em;\">\n",
       "            <span class=\"pystac-key pystac-key-value\">rel</span>\n",
       "            <span style=\"color: rgb(186, 33, 33);\">\"child\"</span>\n",
       "        </li>\n",
       "    \n",
       "                \n",
       "            \n",
       "                \n",
       "                    \n",
       "        <li style=\"overflow-wrap: break-word; padding-left: 2.125em; text-indent: -0.5em;\">\n",
       "            <span class=\"pystac-key pystac-key-value\">href</span>\n",
       "            <span style=\"color: rgb(186, 33, 33);\">None</span>\n",
       "        </li>\n",
       "    \n",
       "                \n",
       "            \n",
       "                \n",
       "                    \n",
       "        <li style=\"overflow-wrap: break-word; padding-left: 2.125em; text-indent: -0.5em;\">\n",
       "            <span class=\"pystac-key pystac-key-value\">type</span>\n",
       "            <span style=\"color: rgb(186, 33, 33);\">\"application/json\"</span>\n",
       "        </li>\n",
       "    \n",
       "                \n",
       "            \n",
       "        </ul>\n",
       "    </div>\n",
       "</div>"
      ],
      "text/plain": [
       "<Link rel=child target=<Collection id=Lidar-BC-Test>>"
      ]
     },
     "execution_count": 28,
     "metadata": {},
     "output_type": "execute_result"
    }
   ],
   "source": [
    "#create STAC \n",
    "catalog = pystac.Catalog(id=\"lidar-test\", description=\"Test catalog for the potential use of STAC to access open LiDAR Data\")\n",
    "catalog.add_child(collection)"
   ]
  },
  {
   "cell_type": "code",
   "execution_count": 29,
   "metadata": {},
   "outputs": [
    {
     "name": "stdout",
     "output_type": "stream",
     "text": [
      "* <Catalog id=lidar-test>\n",
      "    * <Collection id=Lidar-BC-Test>\n",
      "      * <Item id=laz0>\n",
      "      * <Item id=laz1>\n",
      "      * <Item id=laz2>\n",
      "      * <Item id=laz3>\n",
      "      * <Item id=laz4>\n",
      "      * <Item id=laz5>\n",
      "      * <Item id=laz6>\n",
      "      * <Item id=laz7>\n",
      "      * <Item id=laz8>\n"
     ]
    }
   ],
   "source": [
    "catalog.describe()"
   ]
  }
 ],
 "metadata": {
  "kernelspec": {
   "display_name": "stac_tools",
   "language": "python",
   "name": "python3"
  },
  "language_info": {
   "codemirror_mode": {
    "name": "ipython",
    "version": 3
   },
   "file_extension": ".py",
   "mimetype": "text/x-python",
   "name": "python",
   "nbconvert_exporter": "python",
   "pygments_lexer": "ipython3",
   "version": "3.11.7"
  }
 },
 "nbformat": 4,
 "nbformat_minor": 2
}
