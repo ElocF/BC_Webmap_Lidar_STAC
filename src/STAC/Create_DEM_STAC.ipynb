{
 "cells": [
  {
   "cell_type": "code",
   "execution_count": 1,
   "metadata": {},
   "outputs": [
    {
     "name": "stdout",
     "output_type": "stream",
     "text": [
      "loading dot env...\n"
     ]
    }
   ],
   "source": [
    "import os\n",
    "import json\n",
    "import rasterio\n",
    "import urllib.request\n",
    "import pystac\n",
    "from datetime import datetime, timezone\n",
    "from shapely.geometry import Polygon, mapping\n",
    "from tempfile import TemporaryDirectory\n",
    "import logging\n",
    "import constants\n",
    "import boto3\n",
    "from botocore.exceptions import ClientError\n",
    "from glob import glob"
   ]
  },
  {
   "cell_type": "code",
   "execution_count": 2,
   "metadata": {},
   "outputs": [],
   "source": [
    "#set up logging \n",
    "logging.basicConfig(level=logging.DEBUG)\n",
    "debug=logging.debug\n",
    "info=logging.info\n",
    "warning=logging.warning\n",
    "error=logging.error"
   ]
  },
  {
   "cell_type": "code",
   "execution_count": null,
   "metadata": {},
   "outputs": [],
   "source": [
    "# location for STAC jsons \n",
    "stac_loc=r\"STAC_DEM/Catalog/\"\n",
    "\n",
    "#list DEM objects in bucket\n",
    "object_key=r\"STAC_DEM/Data/\"\n",
    "\n",
    "\n",
    "# # use third party object storage to create an S3 Client\n",
    "s3_client = boto3.client(\n",
    "    \"s3\",\n",
    "    endpoint_url=constants.AWS_S3_ENDPOINT,\n",
    "    aws_access_key_id=constants.AWS_ACCESS_KEY_ID,\n",
    "    aws_secret_access_key=constants.AWS_SECRET_ACCESS_KEY,\n",
    ")\n",
    "# for some reason the bucket is adding an extra letter at the end???\n",
    "bucket = constants.AWS_S3_BUCKET\n",
    "\n"
   ]
  },
  {
   "cell_type": "code",
   "execution_count": 4,
   "metadata": {},
   "outputs": [],
   "source": [
    "def create_url(bucket_name: str,\n",
    "            object_name: str):\n",
    " \n",
    "    \"\"\"\n",
    "           \n",
    "    This function takes a bucket name, an object name, and an expiration time (in seconds) and generates a URL download link for the object.\n",
    "\n",
    "    Arguments:\n",
    "        bucket_name: String of name of the bucket\n",
    "        object_name: Name of the object (key) that the URL will be pointed to\n",
    "\n",
    "    Returns:\n",
    "        Link of output (object download) URL\n",
    "        \n",
    "    Raises: \n",
    "        Exceptions raised will display an error message and be logged in the export.log file\n",
    "    \"\"\"\n",
    "    try:\n",
    "        if r':443' in constants.AWS_S3_ENDPOINT:\n",
    "            endpoint=constants.AWS_S3_ENDPOINT.split(':')\n",
    "            endpoint=fr\"{endpoint[0]}:{endpoint[1]}\"\n",
    "        else:\n",
    "            endpoint=constants.AWS_S3_ENDPOINT\n",
    "        response=os.path.join(endpoint,bucket_name,object_name)\n",
    "    except ClientError as e:\n",
    "        print(e)\n",
    "        return None\n",
    "    return response\n",
    "\n",
    "def set_permissions(bucket_name: str,\n",
    "                    object_name: str,\n",
    "                    permissions='public-read'):\n",
    "    \"\"\"\n",
    "    This function takes a bucket name, an object name, and a permissions value (specified below) and sets the object's permissions to the value given.\n",
    "\n",
    "    Arguments:\n",
    "        bucket_name: String of name of the bucket\n",
    "        object_name: Name of the object (key) that the URL will be pointed to\n",
    "        permissions: If not specified, the permissions will default to 'public-read'. Otherwise, permissions can be found below:\n",
    "        'private'|'public-read'|'public-read-write'|'authenticated-read'|'aws-exec-read'|'bucket-owner-read'|'bucket-owner-full-control'\n",
    "\n",
    "    Returns:\n",
    "        Nothing\n",
    "        \n",
    "    Raises: \n",
    "        Exceptions raised will display an error message and be logged in the export.log file \n",
    "    \"\"\"\n",
    "\n",
    "    try:\n",
    "        response = s3_client.put_object_acl(ACL=permissions, Bucket=bucket_name, Key=object_name)\n",
    "        print(f'Set permissions on {object_name} success, set to {permissions}')\n",
    "    except Exception as e:\n",
    "        print(f'Error when setting permission: double check permission: {permissions}. Refer to help(set_permissions) for documentation.')\n",
    "        print(e)\n",
    "\n",
    "    return"
   ]
  },
  {
   "cell_type": "code",
   "execution_count": 5,
   "metadata": {},
   "outputs": [],
   "source": [
    "#function to get data for json\n",
    "def get_bbox_and_footprint(raster):\n",
    "    with rasterio.open(raster) as r:\n",
    "        bounds = r.bounds\n",
    "        bbox = [bounds.left, bounds.bottom, bounds.right, bounds.top]\n",
    "        footprint = Polygon([\n",
    "            [bounds.left, bounds.bottom],\n",
    "            [bounds.left, bounds.top],\n",
    "            [bounds.right, bounds.top],\n",
    "            [bounds.right, bounds.bottom]\n",
    "        ])\n",
    "        \n",
    "        return (bbox, mapping(footprint))"
   ]
  },
  {
   "cell_type": "code",
   "execution_count": null,
   "metadata": {},
   "outputs": [],
   "source": [
    "# find all DEM objects in s3 and add to a list, and check to make sure they have an object size \n",
    "\n",
    "DEM_Objects=[]\n",
    "\n",
    "response = s3_client.list_objects_v2(Bucket=bucket, Prefix=object_key, StartAfter=object_key)\n",
    "\n",
    "if 'Contents' in response:\n",
    "    # Iterate over objects and print their names\n",
    "    for obj in response['Contents']:\n",
    "        DEM_Objects.append(obj['Key'])\n",
    "        info(obj['Key'])\n",
    "        info(f\"Object Size {obj['Size']}\")\n",
    "        \n",
    "else:\n",
    "    error(\"No objects found in the bucket.\")\n"
   ]
  },
  {
   "cell_type": "code",
   "execution_count": 7,
   "metadata": {},
   "outputs": [],
   "source": [
    "#create base url for all json hrefs \n",
    "base_url=create_url(bucket, stac_loc)\n",
    "catalog_name='DEM_Test'\n"
   ]
  },
  {
   "cell_type": "code",
   "execution_count": 16,
   "metadata": {},
   "outputs": [],
   "source": [
    "\n",
    "# create STAC Catalog \n",
    "catalog = pystac.Catalog(id=catalog_name,\n",
    "                        description='This catalog is a basic demonstration catalog utilizing using nine Digital Elevation Models, in the cloud optimized geotif(COG) format, that overlap with the point cloud test',\n",
    "                        href=os.path.join(base_url, f\"{catalog_name}.json\")\n",
    "                        )"
   ]
  },
  {
   "cell_type": "code",
   "execution_count": null,
   "metadata": {},
   "outputs": [],
   "source": [
    "#check properties \n",
    "print(json.dumps(catalog.to_dict(), indent=4))"
   ]
  },
  {
   "cell_type": "code",
   "execution_count": null,
   "metadata": {},
   "outputs": [],
   "source": [
    "#get all asset hrefs and set permissions to public \n",
    "dem_url=[]\n",
    "for d in DEM_Objects:\n",
    "    info(d)\n",
    "    set_permissions(bucket, d) # default is public-read\n",
    "    url=create_url(bucket, d)\n",
    "    dem_url.append(url)"
   ]
  },
  {
   "cell_type": "code",
   "execution_count": null,
   "metadata": {},
   "outputs": [],
   "source": [
    "#get base bucket url\n",
    "base_url=create_url(bucket, stac_loc)\n",
    "\n",
    "#loop through s3 DEM url and S3 DEM and create item and assets\n",
    "for dem, s3_dem in zip(dem_url, DEM_Objects):\n",
    "    info(dem)\n",
    "    info(s3_dem)\n",
    "    name=s3_dem.split('/')[-1].split('.')[0]\n",
    "    info(name)\n",
    "    bbox, footprint = get_bbox_and_footprint(dem)\n",
    "    info(\"bbox: \", bbox, \"\\n\")\n",
    "    info(\"footprint: \", footprint)\n",
    "    datetime_utc = datetime.now(tz=timezone.utc)\n",
    "    #predict item href before creation? might be a bad idea, roll the dice need to make sure all hrefs get set to public with Matts function after \n",
    "    item_href=os.path.join(base_url, name, f\"{name}.json\")\n",
    "    info(f\"Item Href is : {item_href}\")\n",
    "    item = pystac.Item(id=name,\n",
    "                    geometry=footprint,\n",
    "                    bbox=bbox,\n",
    "                    datetime=datetime_utc,\n",
    "                    href= item_href,\n",
    "                    properties={})\n",
    "    catalog.add_item(item)\n",
    " \n",
    "    # Modify the S3 path to remove the prefix\n",
    "    s3_dem_key = os.path.relpath(s3_dem, object_key)\n",
    "    info(f\"s3 dem key : {s3_dem_key}\")\n",
    "    #add asset \n",
    "    item.add_asset(\n",
    "    key=name,\n",
    "    asset=pystac.Asset(\n",
    "        href=dem,\n",
    "        media_type=pystac.MediaType.COG\n",
    "    )\n",
    ")"
   ]
  },
  {
   "cell_type": "code",
   "execution_count": null,
   "metadata": {},
   "outputs": [],
   "source": [
    "#view parent data\n",
    "item.get_parent()"
   ]
  },
  {
   "cell_type": "code",
   "execution_count": null,
   "metadata": {},
   "outputs": [],
   "source": [
    "#visualize STAC Architecture, be careful when using it on large catalogs, as it will walk the entire tree of the STAC.\n",
    "catalog.describe()"
   ]
  },
  {
   "cell_type": "code",
   "execution_count": null,
   "metadata": {},
   "outputs": [],
   "source": [
    "# view the last item added with all of it's properties \n",
    "info(json.dumps(item.to_dict(), indent=4))"
   ]
  },
  {
   "cell_type": "code",
   "execution_count": null,
   "metadata": {},
   "outputs": [],
   "source": [
    "print(\"Catalog HREF: \", catalog.get_self_href())\n",
    "print(\"Item HREF: \", item.get_self_href())"
   ]
  },
  {
   "cell_type": "code",
   "execution_count": null,
   "metadata": {},
   "outputs": [],
   "source": [
    "#save catalog as relative plubished so it can be accessed online?\n",
    "# catalog.save(catalog_type=pystac.CatalogType.RELATIVE_PUBLISHED)"
   ]
  },
  {
   "cell_type": "code",
   "execution_count": 24,
   "metadata": {},
   "outputs": [],
   "source": [
    "#save catalog self contained or relative published???? still not sure\n",
    "\n",
    "ouput_loc=r\"/home/cfolkers/STAC_LiDAR/BC_Webmap_Lidar_STAC/src/STAC/STAC_DEM/Catalogs\"\n",
    "catalog.save(catalog_type=pystac.CatalogType.RELATIVE_PUBLISHED, dest_href=ouput_loc)"
   ]
  },
  {
   "cell_type": "code",
   "execution_count": 73,
   "metadata": {},
   "outputs": [],
   "source": [
    "# #make all hrefs relative and save as self contained?\n",
    "# catalog.make_all_asset_hrefs_relative()\n",
    "# catalog.save(catalog_type=pystac.CatalogType.SELF_CONTAINED, dest_href=ouput_loc)"
   ]
  },
  {
   "cell_type": "code",
   "execution_count": null,
   "metadata": {},
   "outputs": [],
   "source": [
    "#something in here is not working properly, weirdly long time to upload\n",
    "\n",
    "def uploadDirectory(path,bucketname, s3_root):\n",
    "        for root,dirs,files in os.walk(path):\n",
    "            for file in files:\n",
    "                print(os.path.join(root,file))\n",
    "                print(bucketname)\n",
    "                if \"DEM_Test\" not in file:\n",
    "                    s3_out=os.path.join(s3_root,file.split('.')[0],file)\n",
    "                else: \n",
    "                    s3_out=os.path.join(s3_root,file)\n",
    "                print(s3_out)\n",
    "                s3_client.upload_file(os.path.join(root,file),bucketname,file)\n",
    "                \n",
    "uploadDirectory(r\"/home/cfolkers/STAC_LiDAR/BC_Webmap_Lidar_STAC/src/STAC/STAC_DEM/Catalogs\", bucket,'STAC_DEM/Catalogs' )"
   ]
  },
  {
   "cell_type": "code",
   "execution_count": null,
   "metadata": {},
   "outputs": [],
   "source": [
    "in_dir=r\"/home/cfolkers/STAC_LiDAR/BC_Webmap_Lidar_STAC/src/STAC/STAC_DEM/Catalogs\"\n",
    "#set up transfer? seemed to work\n",
    "transfer=boto3.s3.transfer.S3Transfer(s3_client)\n",
    "\n",
    "for root,dirs,files in os.walk(in_dir):\n",
    "    in_file=os.path.join(root,files[0])\n",
    "    #check for file existance\n",
    "    if os.path.isfile(in_file) is True:\n",
    "        info(f\"in path: {in_file}\")\n",
    "        if catalog_name in files[0]:\n",
    "            out_file=os.path.join(stac_loc,files[0])\n",
    "        else:\n",
    "            \n",
    "            ex_dir=files[0].split('.')[0]\n",
    "            out_file=os.path.join(stac_loc,ex_dir,files[0])\n",
    "            # s3_client.put_object(Bucket=bucket, Key=os.path.join(stac_loc,ex_dir))\n",
    "            s3_client.delete_object(Bucket=bucket, Key=os.path.join(stac_loc,ex_dir))\n",
    "    \n",
    "\n",
    "    #     info(f\"out path: {out_file}\")\n",
    "    #     transfer.upload_file(in_file, bucket, out_file)\n",
    "    #     info(f\"{files[0]} put into {out_file} \")\n",
    "        \n",
    "    # else:\n",
    "    #     info(\"file does not exist!!!!\")\n",
    "        \n",
    "    \n",
    "\n"
   ]
  },
  {
   "cell_type": "code",
   "execution_count": null,
   "metadata": {},
   "outputs": [],
   "source": [
    "catalog_list=[]\n",
    "\n",
    "response = s3_client.list_objects_v2(Bucket=bucket, Prefix=\"STAC_DEM/Catalog\")\n",
    "\n",
    "if 'Contents' in response:\n",
    "    # Iterate over objects and print their names\n",
    "    for obj in response['Contents']:\n",
    "        catalog_list.append(obj['Key'])\n",
    "        info(obj['Key'])\n",
    "        info(f\"Object Size {obj['Size']}\")\n",
    "        \n",
    "else:\n",
    "    error(\"No objects found in the bucket.\")"
   ]
  },
  {
   "cell_type": "code",
   "execution_count": null,
   "metadata": {},
   "outputs": [],
   "source": [
    "#make all dem objects public with url\n",
    "for c in catalog_list:\n",
    "    set_permissions(bucket, c) # default is public-read\n",
    "    url=create_url(bucket, c)\n",
    "    print(F\"THIS IS THE URL {url}   !!!!!!!!!!!!!!!!!!!!!!!!\")"
   ]
  }
 ],
 "metadata": {
  "kernelspec": {
   "display_name": "stac_tools",
   "language": "python",
   "name": "python3"
  },
  "language_info": {
   "codemirror_mode": {
    "name": "ipython",
    "version": 3
   },
   "file_extension": ".py",
   "mimetype": "text/x-python",
   "name": "python",
   "nbconvert_exporter": "python",
   "pygments_lexer": "ipython3",
   "version": "3.11.7"
  }
 },
 "nbformat": 4,
 "nbformat_minor": 2
}
