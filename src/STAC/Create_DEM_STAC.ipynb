{
 "cells": [
  {
   "cell_type": "code",
   "execution_count": 17,
   "metadata": {},
   "outputs": [],
   "source": [
    "import sys\n",
    "import logging\n",
    "import constants\n",
    "import boto3\n",
    "from botocore.exceptions import ClientError\n",
    "import os\n",
    "from os import path\n",
    "from pathlib import Path\n",
    "import os\n",
    "import json\n",
    "import rasterio\n",
    "import urllib.request\n",
    "import pystac\n",
    "import numpy as np\n",
    "from osgeo import gdal\n",
    "from datetime import datetime, timezone\n",
    "from shapely.geometry import Polygon, mapping\n",
    "from tempfile import TemporaryDirectory"
   ]
  },
  {
   "cell_type": "code",
   "execution_count": 52,
   "metadata": {},
   "outputs": [],
   "source": [
    "#set up logging \n",
    "logging.basicConfig(level=logging.info)\n",
    "\n",
    "debug=logging.debug\n",
    "info=logging.info\n",
    "warning=logging.warning\n",
    "error=logging.error"
   ]
  },
  {
   "cell_type": "code",
   "execution_count": 41,
   "metadata": {},
   "outputs": [],
   "source": [
    "#list .laz objects in bucket\n",
    "object_key=r\"STAC_LiDAR/DEM/\"\n",
    "\n",
    "#s3 storage location for json files\n",
    "json_out_loc=r'STAC_LiDAR/JSON/'"
   ]
  },
  {
   "cell_type": "code",
   "execution_count": 42,
   "metadata": {},
   "outputs": [
    {
     "name": "stderr",
     "output_type": "stream",
     "text": [
      "DEBUG:botocore.hooks:Event choose-service-name: calling handler <function handle_service_name_alias at 0x7f1ed944f920>\n",
      "DEBUG:botocore.hooks:Event creating-client-class.s3: calling handler <function add_generate_presigned_post at 0x7f1ed93ac400>\n",
      "DEBUG:botocore.hooks:Event creating-client-class.s3: calling handler <function lazy_call.<locals>._handler at 0x7f1e4e1a9620>\n",
      "DEBUG:botocore.hooks:Event creating-client-class.s3: calling handler <function add_generate_presigned_url at 0x7f1ed93ac180>\n",
      "DEBUG:botocore.endpoint:Setting s3 timeout as (60, 60)\n",
      "DEBUG:botocore.client:Registering retry handlers for service: s3\n",
      "DEBUG:botocore.utils:Registering S3 region redirector handler\n",
      "DEBUG:botocore.utils:Registering S3Express Identity Resolver\n"
     ]
    }
   ],
   "source": [
    "# use third party object storage to create an S3 Client\n",
    "s3_client = boto3.client(\n",
    "    \"s3\",\n",
    "    endpoint_url=constants.AWS_S3_ENDPOINT,\n",
    "    aws_access_key_id=constants.AWS_ACCESS_KEY_ID,\n",
    "    aws_secret_access_key=constants.AWS_SECRET_ACCESS_KEY,\n",
    ")\n",
    "# for some reason the bucket is adding an extra letter at the end???\n",
    "bucket = constants.AWS_S3_BUCKET"
   ]
  },
  {
   "cell_type": "code",
   "execution_count": 54,
   "metadata": {},
   "outputs": [
    {
     "name": "stderr",
     "output_type": "stream",
     "text": [
      "DEBUG:botocore.hooks:Event before-parameter-build.s3.ListObjectsV2: calling handler <function set_list_objects_encoding_type_url at 0x7f1ed926e7a0>\n",
      "DEBUG:botocore.hooks:Event before-parameter-build.s3.ListObjectsV2: calling handler <function validate_bucket_name at 0x7f1ed926d300>\n",
      "DEBUG:botocore.hooks:Event before-parameter-build.s3.ListObjectsV2: calling handler <function remove_bucket_from_url_paths_from_model at 0x7f1ed926f420>\n",
      "DEBUG:botocore.hooks:Event before-parameter-build.s3.ListObjectsV2: calling handler <bound method S3RegionRedirectorv2.annotate_request_context of <botocore.utils.S3RegionRedirectorv2 object at 0x7f1e4c4acd10>>\n",
      "DEBUG:botocore.hooks:Event before-parameter-build.s3.ListObjectsV2: calling handler <bound method S3ExpressIdentityResolver.inject_signing_cache_key of <botocore.utils.S3ExpressIdentityResolver object at 0x7f1e4794cf10>>\n",
      "DEBUG:botocore.hooks:Event before-parameter-build.s3.ListObjectsV2: calling handler <function generate_idempotent_uuid at 0x7f1ed926d120>\n",
      "DEBUG:botocore.hooks:Event before-endpoint-resolution.s3: calling handler <function customize_endpoint_resolver_builtins at 0x7f1ed926f600>\n",
      "DEBUG:botocore.hooks:Event before-endpoint-resolution.s3: calling handler <bound method S3RegionRedirectorv2.redirect_from_cache of <botocore.utils.S3RegionRedirectorv2 object at 0x7f1e4c4acd10>>\n",
      "DEBUG:botocore.regions:Calling endpoint provider with parameters: {'Bucket': 'rczimv', 'Region': 'us-east-1', 'UseFIPS': False, 'UseDualStack': False, 'Endpoint': 'https://nrs.objectstore.gov.bc.ca:443//', 'ForcePathStyle': True, 'Accelerate': False, 'UseGlobalEndpoint': True, 'Prefix': 'STAC_LiDAR/DEM/', 'DisableMultiRegionAccessPoints': False, 'UseArnRegion': True}\n",
      "DEBUG:botocore.regions:Endpoint provider result: https://nrs.objectstore.gov.bc.ca:443/rczimv\n",
      "DEBUG:botocore.regions:Selecting from endpoint provider's list of auth schemes: \"sigv4\". User selected auth scheme is: \"None\"\n",
      "DEBUG:botocore.regions:Selected auth type \"v4\" as \"v4\" with signing context params: {'region': 'us-east-1', 'signing_name': 's3', 'disableDoubleEncoding': True}\n",
      "DEBUG:botocore.hooks:Event before-call.s3.ListObjectsV2: calling handler <function add_expect_header at 0x7f1ed926d6c0>\n",
      "DEBUG:botocore.hooks:Event before-call.s3.ListObjectsV2: calling handler <bound method S3ExpressIdentityResolver.apply_signing_cache_key of <botocore.utils.S3ExpressIdentityResolver object at 0x7f1e4794cf10>>\n",
      "DEBUG:botocore.hooks:Event before-call.s3.ListObjectsV2: calling handler <function add_recursion_detection_header at 0x7f1ed942a7a0>\n",
      "DEBUG:botocore.hooks:Event before-call.s3.ListObjectsV2: calling handler <function inject_api_version_header_if_needed at 0x7f1ed926ec00>\n",
      "DEBUG:botocore.endpoint:Making request for OperationModel(name=ListObjectsV2) with params: {'url_path': '?list-type=2', 'query_string': {'prefix': 'STAC_LiDAR/DEM/', 'start-after': 'STAC_LiDAR/DEM/', 'encoding-type': 'url'}, 'method': 'GET', 'headers': {'User-Agent': 'Boto3/1.26.122 md/Botocore#1.34.29 ua/2.0 os/linux#5.15.146.1-microsoft-standard-WSL2 md/arch#x86_64 lang/python#3.11.7 md/pyimpl#CPython cfg/retry-mode#legacy Botocore/1.34.29'}, 'body': b'', 'auth_path': '/rczimv/', 'url': 'https://nrs.objectstore.gov.bc.ca:443/rczimv?list-type=2&prefix=STAC_LiDAR%2FDEM%2F&start-after=STAC_LiDAR%2FDEM%2F&encoding-type=url', 'context': {'client_region': 'us-east-1', 'client_config': <botocore.config.Config object at 0x7f1e47a9d750>, 'has_streaming_input': False, 'auth_type': 'v4', 'encoding_type_auto_set': True, 's3_redirect': {'redirected': False, 'bucket': 'rczimv', 'params': {'Bucket': 'rczimv', 'Prefix': 'STAC_LiDAR/DEM/', 'StartAfter': 'STAC_LiDAR/DEM/', 'EncodingType': 'url'}}, 'S3Express': {'bucket_name': 'rczimv'}, 'signing': {'region': 'us-east-1', 'signing_name': 's3', 'disableDoubleEncoding': True}, 'endpoint_properties': {'authSchemes': [{'disableDoubleEncoding': True, 'name': 'sigv4', 'signingName': 's3', 'signingRegion': 'us-east-1'}]}}}\n",
      "DEBUG:botocore.hooks:Event request-created.s3.ListObjectsV2: calling handler <bound method RequestSigner.handler of <botocore.signers.RequestSigner object at 0x7f1e4dfa6290>>\n",
      "DEBUG:botocore.hooks:Event choose-signer.s3.ListObjectsV2: calling handler <bound method ClientCreator._default_s3_presign_to_sigv2 of <botocore.client.ClientCreator object at 0x7f1e4c4eddd0>>\n",
      "DEBUG:botocore.hooks:Event choose-signer.s3.ListObjectsV2: calling handler <function set_operation_specific_signer at 0x7f1ed926cfe0>\n",
      "DEBUG:botocore.hooks:Event before-sign.s3.ListObjectsV2: calling handler <function remove_arn_from_signing_path at 0x7f1ed926f560>\n",
      "DEBUG:botocore.hooks:Event before-sign.s3.ListObjectsV2: calling handler <bound method S3ExpressIdentityResolver.resolve_s3express_identity of <botocore.utils.S3ExpressIdentityResolver object at 0x7f1e4794cf10>>\n",
      "DEBUG:botocore.auth:Calculating signature using v4 auth.\n",
      "DEBUG:botocore.auth:CanonicalRequest:\n",
      "GET\n",
      "/rczimv\n",
      "encoding-type=url&list-type=2&prefix=STAC_LiDAR%2FDEM%2F&start-after=STAC_LiDAR%2FDEM%2F\n",
      "host:nrs.objectstore.gov.bc.ca\n",
      "x-amz-content-sha256:e3b0c44298fc1c149afbf4c8996fb92427ae41e4649b934ca495991b7852b855\n",
      "x-amz-date:20240426T181248Z\n",
      "\n",
      "host;x-amz-content-sha256;x-amz-date\n",
      "e3b0c44298fc1c149afbf4c8996fb92427ae41e4649b934ca495991b7852b855\n",
      "DEBUG:botocore.auth:StringToSign:\n",
      "AWS4-HMAC-SHA256\n",
      "20240426T181248Z\n",
      "20240426/us-east-1/s3/aws4_request\n",
      "6af4f5fbb39a0a4b10f09039b057968a17895c99b24cf170fa8fef89d19c4dd0\n",
      "DEBUG:botocore.auth:Signature:\n",
      "dc3d9b8aee4b6643051062c137b0473e4257234b3210d5210db484477fb5d895\n",
      "DEBUG:botocore.hooks:Event request-created.s3.ListObjectsV2: calling handler <function add_retry_headers at 0x7f1ed926f380>\n",
      "DEBUG:botocore.endpoint:Sending http request: <AWSPreparedRequest stream_output=False, method=GET, url=https://nrs.objectstore.gov.bc.ca:443/rczimv?list-type=2&prefix=STAC_LiDAR%2FDEM%2F&start-after=STAC_LiDAR%2FDEM%2F&encoding-type=url, headers={'User-Agent': b'Boto3/1.26.122 md/Botocore#1.34.29 ua/2.0 os/linux#5.15.146.1-microsoft-standard-WSL2 md/arch#x86_64 lang/python#3.11.7 md/pyimpl#CPython cfg/retry-mode#legacy Botocore/1.34.29', 'X-Amz-Date': b'20240426T181248Z', 'X-Amz-Content-SHA256': b'e3b0c44298fc1c149afbf4c8996fb92427ae41e4649b934ca495991b7852b855', 'Authorization': b'AWS4-HMAC-SHA256 Credential=nr-geobc-data-test/20240426/us-east-1/s3/aws4_request, SignedHeaders=host;x-amz-content-sha256;x-amz-date, Signature=dc3d9b8aee4b6643051062c137b0473e4257234b3210d5210db484477fb5d895', 'amz-sdk-invocation-id': b'df530caa-f8a3-433e-b4b0-2624209bb5d3', 'amz-sdk-request': b'attempt=1'}>\n",
      "DEBUG:botocore.httpsession:Certificate path: /home/cfolkers/miniforge3/envs/stac_tools/lib/python3.11/site-packages/certifi/cacert.pem\n",
      "DEBUG:urllib3.connectionpool:https://nrs.objectstore.gov.bc.ca:443 \"GET /rczimv?list-type=2&prefix=STAC_LiDAR%2FDEM%2F&start-after=STAC_LiDAR%2FDEM%2F&encoding-type=url HTTP/1.1\" 200 3019\n",
      "DEBUG:botocore.parsers:Response headers: {'Date': 'Fri, 26 Apr 2024 18:12:48 GMT', 'Server': 'ViPR/1.0', 'x-amz-request-id': '8e22ee10:18e48cf26f1:75040:8fc', 'x-amz-id-2': '32a9df7a28f45b9ab2ae1bb4602a4b72f49b4972b58a9304ea36dfed0d72a6e6', 'x-emc-retention-period': '0', 'Content-Type': 'application/xml', 'Content-Length': '3019'}\n",
      "DEBUG:botocore.parsers:Response body:\n",
      "b'<?xml version=\"1.0\" encoding=\"UTF-8\" standalone=\"yes\"?><ListBucketResult xmlns=\"http://s3.amazonaws.com/doc/2006-03-01/\"><Name>rczimv</Name><Prefix>STAC_LiDAR%2FDEM%2F</Prefix><StartAfter>STAC_LiDAR%2FDEM%2F</StartAfter><KeyCount>9</KeyCount><MaxKeys>1000</MaxKeys><IsTruncated>false</IsTruncated><ServerSideEncryptionEnabled>false</ServerSideEncryptionEnabled><EncodingType>url</EncodingType><Contents><Key>STAC_LiDAR%2FDEM%2F%2Fhome%2Fcfolkers%2FSTAC_LiDAR%2FDEM%2Fbc_092o018_xli1m_utm10_2018+%282%29_cog.tif</Key><LastModified>2024-04-23T21:35:57.733Z</LastModified><ETag>\"0248b5c9c8a903806a1e131c13189247-4\"</ETag><Size>27945230</Size><StorageClass>STANDARD</StorageClass></Contents><Contents><Key>STAC_LiDAR%2FDEM%2F%2Fhome%2Fcfolkers%2FSTAC_LiDAR%2FDEM%2Fbc_092o018_xli1m_utm10_2018_cog.tif</Key><LastModified>2024-04-23T21:36:00.379Z</LastModified><ETag>\"d0a0f6f610671bd0192d33300d4c5e1d-16\"</ETag><Size>131166704</Size><StorageClass>STANDARD</StorageClass></Contents><Contents><Key>STAC_LiDAR%2FDEM%2F%2Fhome%2Fcfolkers%2FSTAC_LiDAR%2FDEM%2Fbc_092o019_xli1m_utm10_2018+%282%29_cog.tif</Key><LastModified>2024-04-23T21:36:22.619Z</LastModified><ETag>\"0d925eba904ad4c6b294c9767e122429-34\"</ETag><Size>281923918</Size><StorageClass>STANDARD</StorageClass></Contents><Contents><Key>STAC_LiDAR%2FDEM%2F%2Fhome%2Fcfolkers%2FSTAC_LiDAR%2FDEM%2Fbc_092o019_xli1m_utm10_2018_cog.tif</Key><LastModified>2024-04-23T21:36:34.636Z</LastModified><ETag>\"7ee5d29dd3a1eec46ef4ec105c6fe836-31\"</ETag><Size>256676853</Size><StorageClass>STANDARD</StorageClass></Contents><Contents><Key>STAC_LiDAR%2FDEM%2F%2Fhome%2Fcfolkers%2FSTAC_LiDAR%2FDEM%2Fbc_092o020_xli1m_utm10_2018+%282%29_cog.tif</Key><LastModified>2024-04-23T21:36:35.990Z</LastModified><ETag>\"d3cc600c583cbf0ee584bae542396971-3\"</ETag><Size>19758214</Size><StorageClass>STANDARD</StorageClass></Contents><Contents><Key>STAC_LiDAR%2FDEM%2F%2Fhome%2Fcfolkers%2FSTAC_LiDAR%2FDEM%2Fbc_092o020_xli1m_utm10_2018_cog.tif</Key><LastModified>2024-04-23T21:36:09.845Z</LastModified><ETag>\"23eb7631c05e96c3514479375b54ed84-45\"</ETag><Size>370620362</Size><StorageClass>STANDARD</StorageClass></Contents><Contents><Key>STAC_LiDAR%2FDEM%2F%2Fhome%2Fcfolkers%2FSTAC_LiDAR%2FDEM%2Fbc_092o028_xli1m_utm10_2018_cog.tif</Key><LastModified>2024-04-23T21:36:25.543Z</LastModified><ETag>\"38f3873dc6b5406ea9b32de0b4b2daa4-7\"</ETag><Size>53380148</Size><StorageClass>STANDARD</StorageClass></Contents><Contents><Key>STAC_LiDAR%2FDEM%2F%2Fhome%2Fcfolkers%2FSTAC_LiDAR%2FDEM%2Fbc_092o029_xli1m_utm10_2019_cog.tif</Key><LastModified>2024-04-23T21:36:01.174Z</LastModified><ETag>\"c5f85956b1904b636b31fc44d23f9eed-3\"</ETag><Size>20150088</Size><StorageClass>STANDARD</StorageClass></Contents><Contents><Key>STAC_LiDAR%2FDEM%2F%2Fhome%2Fcfolkers%2FSTAC_LiDAR%2FDEM%2Fbc_092o030_xli1m_utm10_2018_cog.tif</Key><LastModified>2024-04-23T21:36:12.873Z</LastModified><ETag>\"a73b536ba6027006f4ca845ace91f5f9-10\"</ETag><Size>80279565</Size><StorageClass>STANDARD</StorageClass></Contents></ListBucketResult>'\n",
      "DEBUG:botocore.hooks:Event needs-retry.s3.ListObjectsV2: calling handler <botocore.retryhandler.RetryHandler object at 0x7f1e4d632a50>\n",
      "DEBUG:botocore.retryhandler:No retry needed.\n",
      "DEBUG:botocore.hooks:Event needs-retry.s3.ListObjectsV2: calling handler <bound method S3RegionRedirectorv2.redirect_from_error of <botocore.utils.S3RegionRedirectorv2 object at 0x7f1e4c4acd10>>\n",
      "DEBUG:botocore.hooks:Event after-call.s3.ListObjectsV2: calling handler <function decode_list_object_v2 at 0x7f1ed926e8e0>\n",
      "INFO:root:STAC_LiDAR/DEM//home/cfolkers/STAC_LiDAR/DEM/bc_092o018_xli1m_utm10_2018 (2)_cog.tif\n",
      "INFO:root:Object Size 27945230\n",
      "INFO:root:STAC_LiDAR/DEM//home/cfolkers/STAC_LiDAR/DEM/bc_092o018_xli1m_utm10_2018_cog.tif\n",
      "INFO:root:Object Size 131166704\n",
      "INFO:root:STAC_LiDAR/DEM//home/cfolkers/STAC_LiDAR/DEM/bc_092o019_xli1m_utm10_2018 (2)_cog.tif\n",
      "INFO:root:Object Size 281923918\n",
      "INFO:root:STAC_LiDAR/DEM//home/cfolkers/STAC_LiDAR/DEM/bc_092o019_xli1m_utm10_2018_cog.tif\n",
      "INFO:root:Object Size 256676853\n",
      "INFO:root:STAC_LiDAR/DEM//home/cfolkers/STAC_LiDAR/DEM/bc_092o020_xli1m_utm10_2018 (2)_cog.tif\n",
      "INFO:root:Object Size 19758214\n",
      "INFO:root:STAC_LiDAR/DEM//home/cfolkers/STAC_LiDAR/DEM/bc_092o020_xli1m_utm10_2018_cog.tif\n",
      "INFO:root:Object Size 370620362\n",
      "INFO:root:STAC_LiDAR/DEM//home/cfolkers/STAC_LiDAR/DEM/bc_092o028_xli1m_utm10_2018_cog.tif\n",
      "INFO:root:Object Size 53380148\n",
      "INFO:root:STAC_LiDAR/DEM//home/cfolkers/STAC_LiDAR/DEM/bc_092o029_xli1m_utm10_2019_cog.tif\n",
      "INFO:root:Object Size 20150088\n",
      "INFO:root:STAC_LiDAR/DEM//home/cfolkers/STAC_LiDAR/DEM/bc_092o030_xli1m_utm10_2018_cog.tif\n",
      "INFO:root:Object Size 80279565\n"
     ]
    }
   ],
   "source": [
    "DEM_Objects=[]\n",
    "\n",
    "response = s3_client.list_objects_v2(Bucket=bucket, Prefix=object_key, StartAfter=object_key)\n",
    "\n",
    "if 'Contents' in response:\n",
    "    # Iterate over objects and print their names\n",
    "    for obj in response['Contents']:\n",
    "        DEM_Objects.append(obj['Key'])\n",
    "        info(obj['Key'])\n",
    "        info(f\"Object Size {obj['Size']}\")\n",
    "        \n",
    "else:\n",
    "    error(\"No objects found in the bucket.\")"
   ]
  },
  {
   "cell_type": "code",
   "execution_count": 70,
   "metadata": {},
   "outputs": [],
   "source": [
    "#set gdal s3 config \n",
    "# gdal.SetConfigOption('AWS_REGION', '443')\n",
    "gdal.SetConfigOption('AWS_S3_ENDPOINT', constants.AWS_S3_ENDPOINT)\n",
    "gdal.SetConfigOption('AWS_SECRET_ACCESS_KEY', constants.AWS_SECRET_ACCESS_KEY)\n",
    "gdal.SetConfigOption('AWS_ACCESS_KEY_ID', constants.AWS_ACCESS_KEY_ID)\n",
    "gdal.SetConfigOption('AWS_S3_BUCKET',constants.AWS_S3_BUCKET)\n",
    "\n"
   ]
  },
  {
   "cell_type": "code",
   "execution_count": 71,
   "metadata": {},
   "outputs": [
    {
     "name": "stderr",
     "output_type": "stream",
     "text": [
      "INFO:root:/vsis3/rczimv/STAC_LiDAR/DEM//home/cfolkers/STAC_LiDAR/DEM/bc_092o029_xli1m_utm10_2019_cog.tif\n",
      "Warning 1: HTTP response code on https://rczimv.https://nrs.objectstore.gov.bc.ca:443///STAC_LiDAR/DEM//home/cfolkers/STAC_LiDAR/DEM/bc_092o029_xli1m_utm10_2019_cog.tif: 0\n",
      "ERROR 4: `/vsis3/rczimv/STAC_LiDAR/DEM//home/cfolkers/STAC_LiDAR/DEM/bc_092o029_xli1m_utm10_2019_cog.tif' does not exist in the file system, and is not recognized as a supported dataset name.\n"
     ]
    }
   ],
   "source": [
    "path= f'/vsis3/{bucket}/STAC_LiDAR/DEM//home/cfolkers/STAC_LiDAR/DEM/bc_092o029_xli1m_utm10_2019_cog.tif'\n",
    "info(path)\n",
    "ds=gdal.Open(path)\n"
   ]
  },
  {
   "cell_type": "code",
   "execution_count": null,
   "metadata": {},
   "outputs": [],
   "source": [
    "tmp_dir = TemporaryDirectory()"
   ]
  }
 ],
 "metadata": {
  "kernelspec": {
   "display_name": "stac_tools",
   "language": "python",
   "name": "python3"
  },
  "language_info": {
   "codemirror_mode": {
    "name": "ipython",
    "version": 3
   },
   "file_extension": ".py",
   "mimetype": "text/x-python",
   "name": "python",
   "nbconvert_exporter": "python",
   "pygments_lexer": "ipython3",
   "version": "3.11.7"
  }
 },
 "nbformat": 4,
 "nbformat_minor": 2
}
