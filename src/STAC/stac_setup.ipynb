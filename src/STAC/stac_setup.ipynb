{
 "cells": [
  {
   "cell_type": "markdown",
   "metadata": {},
   "source": [
    "# STAC Catalog Setup\n",
    "CFolkers\n",
    "Geospatial Services \n",
    "2024 02 12\n",
    "\n",
    "modified from https://github.com/stac-utils/pystac/blob/8079dd3c0cbe8f6f9e48f499ea90f6a5798eaeab/docs/tutorials/how-to-create-stac-catalogs.ipynb"
   ]
  },
  {
   "cell_type": "code",
   "execution_count": 2,
   "metadata": {},
   "outputs": [
    {
     "name": "stdout",
     "output_type": "stream",
     "text": [
      "loading dot env...\n"
     ]
    }
   ],
   "source": [
    "import logging\n",
    "import constants\n",
    "import boto3\n",
    "from botocore.exceptions import ClientError\n",
    "import os\n",
    "import pystac "
   ]
  },
  {
   "cell_type": "code",
   "execution_count": 6,
   "metadata": {},
   "outputs": [],
   "source": [
    "# use third party object storage to create an S3 Client\n",
    "s3_client = boto3.client(\n",
    "    \"s3\",\n",
    "    endpoint_url=constants.AWS_S3_ENDPOINT,\n",
    "    aws_access_key_id=constants.AWS_ACCESS_KEY_ID,\n",
    "    aws_secret_access_key=constants.AWS_SECRET_ACCESS_KEY,\n",
    ")\n",
    "\n",
    "bucket = constants.AWS_S3_BUCKET\n"
   ]
  },
  {
   "cell_type": "code",
   "execution_count": 11,
   "metadata": {},
   "outputs": [
    {
     "name": "stdout",
     "output_type": "stream",
     "text": [
      "STAC_LiDAR/PointClouds/bc_092o018_3_2_4_xyes_12_utm10_2018.laz\n",
      "STAC_LiDAR/PointClouds/bc_092o018_3_4_2_xyes_12_utm10_2018.laz\n",
      "STAC_LiDAR/PointClouds/bc_092o018_3_4_4_xyes_12_utm10_2018.laz\n",
      "STAC_LiDAR/PointClouds/bc_092o018_4_1_3_xyes_12_utm10_2018.laz\n",
      "STAC_LiDAR/PointClouds/bc_092o018_4_1_4_xyes_12_utm10_2018.laz\n",
      "STAC_LiDAR/PointClouds/bc_092o018_4_3_1_xyes_12_utm10_2018.laz\n",
      "STAC_LiDAR/PointClouds/bc_092o018_4_3_2_xyes_12_utm10_2018.laz\n",
      "STAC_LiDAR/PointClouds/bc_092o018_4_3_3_xyes_12_utm10_2018.laz\n",
      "STAC_LiDAR/PointClouds/bc_092o018_4_3_4_xyes_12_utm10_2018.laz\n"
     ]
    }
   ],
   "source": [
    "#list .laz objects in bucket\n",
    "object_key=\"STAC_LiDAR/PointClouds/\"\n",
    "laz_objects=[]\n",
    "\n",
    "response = s3_client.list_objects_v2(Bucket=bucket, Prefix=object_key, StartAfter=object_key)\n",
    "\n",
    "if 'Contents' in response:\n",
    "    # Iterate over objects and print their names\n",
    "    for obj in response['Contents']:\n",
    "        laz_objects.append(obj['Key'])\n",
    "        print(obj['Key'])\n",
    "else:\n",
    "    print(\"No objects found in the bucket.\")\n",
    "    "
   ]
  },
  {
   "cell_type": "code",
   "execution_count": 15,
   "metadata": {},
   "outputs": [
    {
     "name": "stdout",
     "output_type": "stream",
     "text": [
      "{'STAC_LiDAR/PointClouds/bc_092o018_3_2_4_xyes_12_utm10_2018.laz': 'https://nrs.objectstore.gov.bc.ca:443/rczimv/STAC_LiDAR/PointClouds/bc_092o018_3_2_4_xyes_12_utm10_2018.laz?AWSAccessKeyId=nr-geobc-data-test&Signature=ePLYK1oppeWsoYeivX7Irpj0kRU%3D&Expires=1707771788', 'STAC_LiDAR/PointClouds/bc_092o018_3_4_2_xyes_12_utm10_2018.laz': 'https://nrs.objectstore.gov.bc.ca:443/rczimv/STAC_LiDAR/PointClouds/bc_092o018_3_4_2_xyes_12_utm10_2018.laz?AWSAccessKeyId=nr-geobc-data-test&Signature=UwSAH03laBaZTPGXtksbkISlob8%3D&Expires=1707771788', 'STAC_LiDAR/PointClouds/bc_092o018_3_4_4_xyes_12_utm10_2018.laz': 'https://nrs.objectstore.gov.bc.ca:443/rczimv/STAC_LiDAR/PointClouds/bc_092o018_3_4_4_xyes_12_utm10_2018.laz?AWSAccessKeyId=nr-geobc-data-test&Signature=KLUbqk1y68CTsykEKeYWFw8cmAY%3D&Expires=1707771788', 'STAC_LiDAR/PointClouds/bc_092o018_4_1_3_xyes_12_utm10_2018.laz': 'https://nrs.objectstore.gov.bc.ca:443/rczimv/STAC_LiDAR/PointClouds/bc_092o018_4_1_3_xyes_12_utm10_2018.laz?AWSAccessKeyId=nr-geobc-data-test&Signature=US3Dt3JQJ%2F%2FpnUNl2LYg7d3Khs8%3D&Expires=1707771788', 'STAC_LiDAR/PointClouds/bc_092o018_4_1_4_xyes_12_utm10_2018.laz': 'https://nrs.objectstore.gov.bc.ca:443/rczimv/STAC_LiDAR/PointClouds/bc_092o018_4_1_4_xyes_12_utm10_2018.laz?AWSAccessKeyId=nr-geobc-data-test&Signature=lZ01M7L8NXs7QUCTcBQxkRsZOiI%3D&Expires=1707771788', 'STAC_LiDAR/PointClouds/bc_092o018_4_3_1_xyes_12_utm10_2018.laz': 'https://nrs.objectstore.gov.bc.ca:443/rczimv/STAC_LiDAR/PointClouds/bc_092o018_4_3_1_xyes_12_utm10_2018.laz?AWSAccessKeyId=nr-geobc-data-test&Signature=LqeG6yjO7VGj4iUGtJRmuNyFM7c%3D&Expires=1707771788', 'STAC_LiDAR/PointClouds/bc_092o018_4_3_2_xyes_12_utm10_2018.laz': 'https://nrs.objectstore.gov.bc.ca:443/rczimv/STAC_LiDAR/PointClouds/bc_092o018_4_3_2_xyes_12_utm10_2018.laz?AWSAccessKeyId=nr-geobc-data-test&Signature=POMyKW%2Fzouqy1JPN%2FCcwrJY9aD4%3D&Expires=1707771788', 'STAC_LiDAR/PointClouds/bc_092o018_4_3_3_xyes_12_utm10_2018.laz': 'https://nrs.objectstore.gov.bc.ca:443/rczimv/STAC_LiDAR/PointClouds/bc_092o018_4_3_3_xyes_12_utm10_2018.laz?AWSAccessKeyId=nr-geobc-data-test&Signature=wEsZ6vAgm3TqJwhfbFnyDtZFH58%3D&Expires=1707771788', 'STAC_LiDAR/PointClouds/bc_092o018_4_3_4_xyes_12_utm10_2018.laz': 'https://nrs.objectstore.gov.bc.ca:443/rczimv/STAC_LiDAR/PointClouds/bc_092o018_4_3_4_xyes_12_utm10_2018.laz?AWSAccessKeyId=nr-geobc-data-test&Signature=SePamC0qDNEOYM0nUqrgfbbMysw%3D&Expires=1707771788'}\n"
     ]
    }
   ],
   "source": [
    "#Create URL to access .laz file \n",
    "url_dict={}\n",
    "for laz in laz_objects:\n",
    "    presigned_url=s3_client.generate_presigned_url('get_object',\n",
    "                                        Params={'Bucket': bucket, 'Key': laz},\n",
    "                                        ExpiresIn=3600)  # Expiration time in seconds (e.g., 1 hour)\n",
    "    # print(presigned_url)\n",
    "    url_dict[laz]=presigned_url"
   ]
  },
  {
   "cell_type": "code",
   "execution_count": 3,
   "metadata": {},
   "outputs": [
    {
     "name": "stdout",
     "output_type": "stream",
     "text": [
      "\u001b[0;31mInit signature:\u001b[0m\n",
      "\u001b[0mpystac\u001b[0m\u001b[0;34m.\u001b[0m\u001b[0mCatalog\u001b[0m\u001b[0;34m(\u001b[0m\u001b[0;34m\u001b[0m\n",
      "\u001b[0;34m\u001b[0m    \u001b[0mid\u001b[0m\u001b[0;34m:\u001b[0m \u001b[0;34m'str'\u001b[0m\u001b[0;34m,\u001b[0m\u001b[0;34m\u001b[0m\n",
      "\u001b[0;34m\u001b[0m    \u001b[0mdescription\u001b[0m\u001b[0;34m:\u001b[0m \u001b[0;34m'str'\u001b[0m\u001b[0;34m,\u001b[0m\u001b[0;34m\u001b[0m\n",
      "\u001b[0;34m\u001b[0m    \u001b[0mtitle\u001b[0m\u001b[0;34m:\u001b[0m \u001b[0;34m'str | None'\u001b[0m \u001b[0;34m=\u001b[0m \u001b[0;32mNone\u001b[0m\u001b[0;34m,\u001b[0m\u001b[0;34m\u001b[0m\n",
      "\u001b[0;34m\u001b[0m    \u001b[0mstac_extensions\u001b[0m\u001b[0;34m:\u001b[0m \u001b[0;34m'list[str] | None'\u001b[0m \u001b[0;34m=\u001b[0m \u001b[0;32mNone\u001b[0m\u001b[0;34m,\u001b[0m\u001b[0;34m\u001b[0m\n",
      "\u001b[0;34m\u001b[0m    \u001b[0mextra_fields\u001b[0m\u001b[0;34m:\u001b[0m \u001b[0;34m'dict[str, Any] | None'\u001b[0m \u001b[0;34m=\u001b[0m \u001b[0;32mNone\u001b[0m\u001b[0;34m,\u001b[0m\u001b[0;34m\u001b[0m\n",
      "\u001b[0;34m\u001b[0m    \u001b[0mhref\u001b[0m\u001b[0;34m:\u001b[0m \u001b[0;34m'str | None'\u001b[0m \u001b[0;34m=\u001b[0m \u001b[0;32mNone\u001b[0m\u001b[0;34m,\u001b[0m\u001b[0;34m\u001b[0m\n",
      "\u001b[0;34m\u001b[0m    \u001b[0mcatalog_type\u001b[0m\u001b[0;34m:\u001b[0m \u001b[0;34m'CatalogType'\u001b[0m \u001b[0;34m=\u001b[0m \u001b[0mABSOLUTE_PUBLISHED\u001b[0m\u001b[0;34m,\u001b[0m\u001b[0;34m\u001b[0m\n",
      "\u001b[0;34m\u001b[0m\u001b[0;34m)\u001b[0m\u001b[0;34m\u001b[0m\u001b[0;34m\u001b[0m\u001b[0m\n",
      "\u001b[0;31mDocstring:\u001b[0m     \n",
      "A PySTAC Catalog represents a STAC catalog in memory.\n",
      "\n",
      "A Catalog is a :class:`~pystac.STACObject` that may contain children,\n",
      "which are instances of :class:`~pystac.Catalog` or :class:`~pystac.Collection`,\n",
      "as well as :class:`~pystac.Item` s.\n",
      "\n",
      "Args:\n",
      "    id : Identifier for the catalog. Must be unique within the STAC.\n",
      "    description : Detailed multi-line description to fully explain the catalog.\n",
      "        `CommonMark 0.29 syntax <https://commonmark.org/>`_ MAY be used for rich\n",
      "        text representation.\n",
      "    title : Optional short descriptive one-line title for the catalog.\n",
      "    stac_extensions : Optional list of extensions the Catalog implements.\n",
      "    href : Optional HREF for this catalog, which be set as the\n",
      "        catalog's self link's HREF.\n",
      "    catalog_type : Optional catalog type for this catalog. Must\n",
      "        be one of the values in :class:`~pystac.CatalogType`.\n",
      "\u001b[0;31mFile:\u001b[0m           ~/miniforge3/envs/stac_tools/lib/python3.11/site-packages/pystac/catalog.py\n",
      "\u001b[0;31mType:\u001b[0m           ABCMeta\n",
      "\u001b[0;31mSubclasses:\u001b[0m     Collection"
     ]
    }
   ],
   "source": [
    "?pystac.Catalog"
   ]
  },
  {
   "cell_type": "code",
   "execution_count": 4,
   "metadata": {},
   "outputs": [],
   "source": [
    "catalog = pystac.Catalog(id=\"lidar-test\", description=\"Test catalog for the potential use of STAC to access open LiDAR Data\")"
   ]
  },
  {
   "cell_type": "code",
   "execution_count": null,
   "metadata": {},
   "outputs": [],
   "source": []
  }
 ],
 "metadata": {
  "kernelspec": {
   "display_name": "stac_tools",
   "language": "python",
   "name": "python3"
  },
  "language_info": {
   "codemirror_mode": {
    "name": "ipython",
    "version": 3
   },
   "file_extension": ".py",
   "mimetype": "text/x-python",
   "name": "python",
   "nbconvert_exporter": "python",
   "pygments_lexer": "ipython3",
   "version": "3.11.7"
  }
 },
 "nbformat": 4,
 "nbformat_minor": 2
}
