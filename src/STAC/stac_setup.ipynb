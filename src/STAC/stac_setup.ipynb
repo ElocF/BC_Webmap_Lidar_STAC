{
 "cells": [
  {
   "cell_type": "markdown",
   "metadata": {},
   "source": [
    "# STAC Catalog Setup\n",
    "CFolkers\n",
    "Geospatial Services \n",
    "2024 02 12\n",
    "\n",
    "modified from https://github.com/stac-utils/pystac/blob/8079dd3c0cbe8f6f9e48f499ea90f6a5798eaeab/docs/tutorials/how-to-create-stac-catalogs.ipynb\n",
    "and https://github.com/stac-extensions/pointcloud/blob/main/examples/pdal-to-stac.py"
   ]
  },
  {
   "cell_type": "code",
   "execution_count": 33,
   "metadata": {},
   "outputs": [],
   "source": [
    "import logging\n",
    "import constants\n",
    "import boto3\n",
    "from botocore.exceptions import ClientError\n",
    "import os\n",
    "from os import path\n",
    "from pathlib import Path\n",
    "import pystac \n",
    "import pdal\n",
    "from osgeo import ogr\n",
    "from osgeo import osr\n",
    "import json"
   ]
  },
  {
   "cell_type": "code",
   "execution_count": null,
   "metadata": {},
   "outputs": [],
   "source": [
    "# use third party object storage to create an S3 Client\n",
    "s3_client = boto3.client(\n",
    "    \"s3\",\n",
    "    endpoint_url=constants.AWS_S3_ENDPOINT,\n",
    "    aws_access_key_id=constants.AWS_ACCESS_KEY_ID,\n",
    "    aws_secret_access_key=constants.AWS_SECRET_ACCESS_KEY,\n",
    ")\n",
    "# for some reason the bucket is adding an extra letter at the end???\n",
    "bucket = constants.AWS_S3_BUCKET\n",
    "\n",
    "print(f\"{s3_client} {bucket}\")"
   ]
  },
  {
   "cell_type": "code",
   "execution_count": 48,
   "metadata": {},
   "outputs": [
    {
     "name": "stdout",
     "output_type": "stream",
     "text": [
      "STAC_LiDAR/PointClouds/bc_092o018_3_2_4_xyes_12_utm10_2018.laz\n",
      "STAC_LiDAR/PointClouds/bc_092o018_3_4_2_xyes_12_utm10_2018.laz\n",
      "STAC_LiDAR/PointClouds/bc_092o018_3_4_4_xyes_12_utm10_2018.laz\n",
      "STAC_LiDAR/PointClouds/bc_092o018_4_1_3_xyes_12_utm10_2018.laz\n",
      "STAC_LiDAR/PointClouds/bc_092o018_4_1_4_xyes_12_utm10_2018.laz\n",
      "STAC_LiDAR/PointClouds/bc_092o018_4_3_1_xyes_12_utm10_2018.laz\n",
      "STAC_LiDAR/PointClouds/bc_092o018_4_3_2_xyes_12_utm10_2018.laz\n",
      "STAC_LiDAR/PointClouds/bc_092o018_4_3_3_xyes_12_utm10_2018.laz\n",
      "STAC_LiDAR/PointClouds/bc_092o018_4_3_4_xyes_12_utm10_2018.laz\n"
     ]
    }
   ],
   "source": [
    "#list .laz objects in bucket\n",
    "object_key=\"STAC_LiDAR/PointClouds/\"\n",
    "laz_objects=[]\n",
    "\n",
    "response = s3_client.list_objects_v2(Bucket=bucket, Prefix=object_key, StartAfter=object_key)\n",
    "\n",
    "if 'Contents' in response:\n",
    "    # Iterate over objects and print their names\n",
    "    for obj in response['Contents']:\n",
    "        laz_objects.append(obj['Key'])\n",
    "        print(obj['Key'])\n",
    "else:\n",
    "    print(\"No objects found in the bucket.\")\n",
    "    "
   ]
  },
  {
   "cell_type": "code",
   "execution_count": 56,
   "metadata": {},
   "outputs": [],
   "source": [
    "#One way to access the objects is to Create URL to access .laz file \n",
    "url_dict={}\n",
    "for laz in laz_objects:\n",
    "    presigned_url=s3_client.generate_presigned_url('get_object',\n",
    "                                        Params={'Bucket': bucket, 'Key': laz},\n",
    "                                        ExpiresIn=3600)  # Expiration time in seconds (e.g., 1 hour)\n",
    "    # print(presigned_url)\n",
    "    url_dict[laz]=presigned_url"
   ]
  },
  {
   "cell_type": "code",
   "execution_count": 57,
   "metadata": {},
   "outputs": [
    {
     "ename": "RuntimeError",
     "evalue": "readers.las: Couldn't read LAS header. File size insufficient.",
     "output_type": "error",
     "traceback": [
      "\u001b[0;31m---------------------------------------------------------------------------\u001b[0m",
      "\u001b[0;31mRuntimeError\u001b[0m                              Traceback (most recent call last)",
      "Cell \u001b[0;32mIn[57], line 15\u001b[0m\n\u001b[1;32m      5\u001b[0m pipeline \u001b[38;5;241m=\u001b[39m {\n\u001b[1;32m      6\u001b[0m     \u001b[38;5;124m\"\u001b[39m\u001b[38;5;124mpipeline\u001b[39m\u001b[38;5;124m\"\u001b[39m: [\n\u001b[1;32m      7\u001b[0m         {\n\u001b[0;32m   (...)\u001b[0m\n\u001b[1;32m     12\u001b[0m     ]\n\u001b[1;32m     13\u001b[0m }\n\u001b[1;32m     14\u001b[0m reader \u001b[38;5;241m=\u001b[39m pdal\u001b[38;5;241m.\u001b[39mPipeline(json\u001b[38;5;241m.\u001b[39mdumps(pipeline))\n\u001b[0;32m---> 15\u001b[0m \u001b[43mreader\u001b[49m\u001b[38;5;241;43m.\u001b[39;49m\u001b[43mexecute\u001b[49m\u001b[43m(\u001b[49m\u001b[43m)\u001b[49m\n\u001b[1;32m     17\u001b[0m \u001b[38;5;28;01mbreak\u001b[39;00m\n",
      "\u001b[0;31mRuntimeError\u001b[0m: readers.las: Couldn't read LAS header. File size insufficient."
     ]
    }
   ],
   "source": [
    "#attempt to access laz file form s3 via link\n",
    "\n",
    "for key in url_dict:\n",
    "\n",
    "    pipeline = {\n",
    "        \"pipeline\": [\n",
    "            {\n",
    "                \"type\": \"readers.las\",\n",
    "                \"filename\":url_dict[key]\n",
    "            },\n",
    "            {\n",
    "                \"type\": \"filters.hexbin\"\n",
    "            },\n",
    "            {\n",
    "                \"type\": \"filters.stats\"\n",
    "            },\n",
    "            {\n",
    "                \"type\": \"filters.info\"\n",
    "            }\n",
    "            # Add more processing or filters if needed\n",
    "        ]\n",
    "    }\n",
    "    reader = pdal.Pipeline(json.dumps(pipeline))\n",
    "    reader.execute()\n",
    "    boundary = pipeline.metadata['metadata']['filters.hexbin']\n",
    "    stats = pipeline.metadata['metadata']['filters.stats']\n",
    "    info = pipeline.metadata['metadata']['filters.info']\n",
    "    \n",
    "    break\n"
   ]
  },
  {
   "cell_type": "code",
   "execution_count": null,
   "metadata": {},
   "outputs": [],
   "source": [
    "#another attempt to read .laz files from s3 link\n",
    "#not working\n",
    "for key in url_dict.values():\n",
    "    r = pdal.Reader.copc(key)\n",
    "    hb = pdal.Filter.hexbin()\n",
    "    s = pdal.Filter.stats()\n",
    "    i = pdal.Filter.info()\n",
    "\n",
    "    pipeline: pdal.Pipeline = r | hb | s | i\n",
    "\n",
    "    count = pipeline.execute()\n",
    "\n",
    "    boundary = pipeline.metadata['metadata'][hb.type]\n",
    "    stats = pipeline.metadata['metadata'][s.type]\n",
    "    info = pipeline.metadata['metadata'][i.type]\n",
    "    copc = pipeline.metadata['metadata'][r.type]"
   ]
  },
  {
   "cell_type": "code",
   "execution_count": null,
   "metadata": {},
   "outputs": [],
   "source": [
    "# another potential way is to use the get_object method \n",
    "# not working\n",
    "for laz in laz_objects:\n",
    "    try:\n",
    "        response = s3_client.get_object(Bucket=bucket, Key=laz)\n",
    "        # Access the object data\n",
    "        object_data = response\n",
    "        print(\"Object data:\",laz,  object_data)\n",
    "        r = pdal.Reader.copc(response)\n",
    "        hb = pdal.Filter.hexbin()\n",
    "        s = pdal.Filter.stats()\n",
    "        i = pdal.Filter.info()\n",
    "\n",
    "        pipeline: pdal.Pipeline = r | hb | s | i\n",
    "\n",
    "        count = pipeline.execute()\n",
    "\n",
    "        boundary = pipeline.metadata['metadata'][hb.type]\n",
    "        stats = pipeline.metadata['metadata'][s.type]\n",
    "        info = pipeline.metadata['metadata'][i.type]\n",
    "        copc = pipeline.metadata['metadata'][r.type]\n",
    "    except Exception as e:\n",
    "        print(\"Error:\", e)\n",
    "    break"
   ]
  },
  {
   "cell_type": "code",
   "execution_count": null,
   "metadata": {},
   "outputs": [],
   "source": [
    "?pystac.Catalog"
   ]
  },
  {
   "cell_type": "code",
   "execution_count": 4,
   "metadata": {},
   "outputs": [],
   "source": [
    "catalog = pystac.Catalog(id=\"lidar-test\", description=\"Test catalog for the potential use of STAC to access open LiDAR Data\")"
   ]
  }
 ],
 "metadata": {
  "kernelspec": {
   "display_name": "stac_tools",
   "language": "python",
   "name": "python3"
  },
  "language_info": {
   "codemirror_mode": {
    "name": "ipython",
    "version": 3
   },
   "file_extension": ".py",
   "mimetype": "text/x-python",
   "name": "python",
   "nbconvert_exporter": "python",
   "pygments_lexer": "ipython3",
   "version": "3.11.7"
  }
 },
 "nbformat": 4,
 "nbformat_minor": 2
}
