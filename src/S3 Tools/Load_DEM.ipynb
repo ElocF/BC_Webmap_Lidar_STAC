{
 "cells": [
  {
   "cell_type": "code",
   "execution_count": 19,
   "metadata": {},
   "outputs": [],
   "source": [
    "import logging\n",
    "import constants\n",
    "import boto3\n",
    "from botocore.exceptions import ClientError\n",
    "import os\n",
    "from osgeo import gdal\n",
    "import glob"
   ]
  },
  {
   "cell_type": "code",
   "execution_count": 2,
   "metadata": {},
   "outputs": [],
   "source": [
    "# use third party object storage to create an S3 Client\n",
    "s3_client = boto3.client(\n",
    "    \"s3\",\n",
    "    endpoint_url=constants.AWS_S3_ENDPOINT,\n",
    "    aws_access_key_id=constants.AWS_ACCESS_KEY_ID,\n",
    "    aws_secret_access_key=constants.AWS_SECRET_ACCESS_KEY,\n",
    ")\n",
    "\n",
    "bucket = constants.AWS_S3_BUCKET"
   ]
  },
  {
   "cell_type": "code",
   "execution_count": 3,
   "metadata": {},
   "outputs": [
    {
     "name": "stdout",
     "output_type": "stream",
     "text": [
      "2023-06-01.csv\n",
      "2023-06-02.csv\n",
      "STAC_LiDAR/\n",
      "STAC_LiDAR/DEM/\n",
      "STAC_LiDAR/DEM/bc_092o018_xli1m_utm10_2018 (2).tif\n",
      "STAC_LiDAR/DEM/bc_092o018_xli1m_utm10_2018.tif\n",
      "STAC_LiDAR/DEM/bc_092o019_xli1m_utm10_2018 (2).tif\n",
      "STAC_LiDAR/DEM/bc_092o019_xli1m_utm10_2018.tif\n",
      "STAC_LiDAR/DEM/bc_092o020_xli1m_utm10_2018 (2).tif\n",
      "STAC_LiDAR/DEM/bc_092o020_xli1m_utm10_2018.tif\n",
      "STAC_LiDAR/DEM/bc_092o028_xli1m_utm10_2018.tif\n",
      "STAC_LiDAR/DEM/bc_092o029_xli1m_utm10_2019.tif\n",
      "STAC_LiDAR/DEM/bc_092o030_xli1m_utm10_2018.tif\n",
      "STAC_LiDAR/JSON/bc_092o018_3_2_4_xyes_12_utm10_2018.json\n",
      "STAC_LiDAR/JSON/bc_092o018_3_4_2_xyes_12_utm10_2018.json\n",
      "STAC_LiDAR/JSON/bc_092o018_3_4_4_xyes_12_utm10_2018.json\n",
      "STAC_LiDAR/JSON/bc_092o018_4_1_3_xyes_12_utm10_2018.json\n",
      "STAC_LiDAR/JSON/bc_092o018_4_1_4_xyes_12_utm10_2018.json\n",
      "STAC_LiDAR/JSON/bc_092o018_4_3_1_xyes_12_utm10_2018.json\n",
      "STAC_LiDAR/JSON/bc_092o018_4_3_2_xyes_12_utm10_2018.json\n",
      "STAC_LiDAR/JSON/bc_092o018_4_3_3_xyes_12_utm10_2018.json\n",
      "STAC_LiDAR/JSON/bc_092o018_4_3_4_xyes_12_utm10_2018.json\n",
      "STAC_LiDAR/PointClouds/\n",
      "STAC_LiDAR/PointClouds/bc_092o018_3_2_4_xyes_12_utm10_2018.laz\n",
      "STAC_LiDAR/PointClouds/bc_092o018_3_4_2_xyes_12_utm10_2018.laz\n",
      "STAC_LiDAR/PointClouds/bc_092o018_3_4_4_xyes_12_utm10_2018.laz\n",
      "STAC_LiDAR/PointClouds/bc_092o018_4_1_3_xyes_12_utm10_2018.laz\n",
      "STAC_LiDAR/PointClouds/bc_092o018_4_1_4_xyes_12_utm10_2018.laz\n",
      "STAC_LiDAR/PointClouds/bc_092o018_4_3_1_xyes_12_utm10_2018.laz\n",
      "STAC_LiDAR/PointClouds/bc_092o018_4_3_2_xyes_12_utm10_2018.laz\n",
      "STAC_LiDAR/PointClouds/bc_092o018_4_3_3_xyes_12_utm10_2018.laz\n",
      "STAC_LiDAR/PointClouds/bc_092o018_4_3_4_xyes_12_utm10_2018.laz\n",
      "_$folder$\n",
      "geotest/\n",
      "geotest/_$folder$\n",
      "geotest/cog/082E01_rgb.tif\n",
      "geotest/cog/_$folder$\n",
      "geotest/cog/lzw2_082E01_rgb.tif\n",
      "geotest/cog/lzw_082E01_rgb.tif\n",
      "geotest/veg_comp_layer_r1_poly.parquet\n"
     ]
    }
   ],
   "source": [
    "#list contents of bucket \n",
    "response = s3_client.list_objects_v2(Bucket=bucket)\n",
    "\n",
    "if 'Contents' in response:\n",
    "    # Iterate over objects and print their names\n",
    "    for obj in response['Contents']:\n",
    "        print(obj['Key'])\n",
    "else:\n",
    "    print(\"No objects found in the bucket.\")"
   ]
  },
  {
   "cell_type": "code",
   "execution_count": 4,
   "metadata": {},
   "outputs": [
    {
     "name": "stdout",
     "output_type": "stream",
     "text": [
      "The object STAC_LiDAR/' in bucket 'rczimv' exists.\n",
      "The object STAC_LiDAR/DEM/' in bucket 'rczimv' exists.\n"
     ]
    }
   ],
   "source": [
    "#Create Folder Like Structure(empty objects) for STAC Lidar base area and point clouds, if they do no exist already  .laz files will go into point clouds object\n",
    "base_obj=\"STAC_LiDAR/\"\n",
    "pc_obj=\"STAC_LiDAR/DEM/\"\n",
    "obj_list=[base_obj,pc_obj]\n",
    "\n",
    "for item in obj_list:\n",
    "    response = s3_client.list_objects_v2(Bucket=bucket, Prefix=item)\n",
    "    if 'Contents' in response:\n",
    "        for obj in response['Contents']:\n",
    "            if obj['Key'] == item:\n",
    "                print(f\"The object {item}' in bucket '{bucket}' exists.\")\n",
    "                break\n",
    "        else:\n",
    "            print(f\"The object {item}' in bucket '{bucket}' dose not exist, adding object\")\n",
    "            s3_client.put_object(Bucket=bucket, Key=item)\n",
    "\n",
    "\n",
    "# s3_client.put_object(Bucket=bucket, Key=pc_obj)"
   ]
  },
  {
   "cell_type": "code",
   "execution_count": 9,
   "metadata": {},
   "outputs": [],
   "source": [
    "# specify the folder path (in the current working directory) where objects are/will be\n",
    "# if the folder doesn't exist, create it\n",
    "save_path = (r'/home/cfolkers/STAC_LiDAR/DEM')\n",
    "if not os.path.exists(save_path):\n",
    "    os.makedirs(save_path)\n"
   ]
  },
  {
   "cell_type": "code",
   "execution_count": 18,
   "metadata": {},
   "outputs": [
    {
     "name": "stderr",
     "output_type": "stream",
     "text": [
      "Warning 6: driver COG does not support creation option COPY_SRC_OVERVIEWS\n",
      "Warning 6: driver COG does not support creation option COPY_SRC_OVERVIEWS\n",
      "Warning 6: driver COG does not support creation option COPY_SRC_OVERVIEWS\n",
      "Warning 6: driver COG does not support creation option COPY_SRC_OVERVIEWS\n",
      "Warning 6: driver COG does not support creation option COPY_SRC_OVERVIEWS\n",
      "Warning 6: driver COG does not support creation option COPY_SRC_OVERVIEWS\n",
      "Warning 6: driver COG does not support creation option COPY_SRC_OVERVIEWS\n",
      "Warning 6: driver COG does not support creation option COPY_SRC_OVERVIEWS\n",
      "Warning 6: driver COG does not support creation option COPY_SRC_OVERVIEWS\n"
     ]
    },
    {
     "name": "stdout",
     "output_type": "stream",
     "text": [
      "['bc_092o020_xli1m_utm10_2018.tif', 'bc_092o020_xli1m_utm10_2018 (2).tif', 'bc_092o018_xli1m_utm10_2018 (2)_cog.tif', 'bc_092o018_xli1m_utm10_2018_cog.tif', 'bc_092o030_xli1m_utm10_2018.tif', 'bc_092o029_xli1m_utm10_2019_cog.tif', 'bc_092o029_xli1m_utm10_2019.tif', 'bc_092o019_xli1m_utm10_2018.tif', 'bc_092o028_xli1m_utm10_2018.tif', 'bc_092o020_xli1m_utm10_2018_cog.tif', 'bc_092o018_xli1m_utm10_2018 (2).tif', 'bc_092o018_xli1m_utm10_2018.tif', 'bc_092o030_xli1m_utm10_2018_cog.tif', 'bc_092o019_xli1m_utm10_2018 (2).tif', 'bc_092o019_xli1m_utm10_2018 (2)_cog.tif', 'bc_092o028_xli1m_utm10_2018_cog.tif', 'bc_092o019_xli1m_utm10_2018_cog.tif', 'bc_092o020_xli1m_utm10_2018 (2)_cog.tif']\n"
     ]
    }
   ],
   "source": [
    "DEM_list=os.listdir(save_path)\n",
    "\n",
    "options = ['COMPRESS=LZW', 'NUM_THREADS=ALL_CPUS', 'BIGTIFF=YES']\n",
    "\n",
    "\n",
    "for f in DEM_list:\n",
    "    f=os.path.join(save_path,f)\n",
    "    splits=f.split('.')\n",
    "    output_cog=f\"{splits[0]}_cog.{splits[1]}\"\n",
    "    input_dataset = gdal.Open(f)\n",
    "    gdal.Translate(output_cog, input_dataset, format='COG', creationOptions=options)\n",
    "    input_dataset = None  \n"
   ]
  },
  {
   "cell_type": "code",
   "execution_count": 31,
   "metadata": {},
   "outputs": [
    {
     "name": "stdout",
     "output_type": "stream",
     "text": [
      "Objects uploaded to folder 'STAC_LiDAR/DEM/' in bucket 'rczimv'.\n"
     ]
    }
   ],
   "source": [
    "# put .laz files into your object storage \"STAC_LiDAR/PointClouds/\"\n",
    "\n",
    "DEM_list= glob.glob(fr\"{save_path}/*_cog.*\")\n",
    "for obj in DEM_list:\n",
    "    obj_load=os.path.join(save_path,obj)\n",
    "    obj_key=pc_obj+obj\n",
    "    s3_client.upload_file(obj_load, Bucket=bucket, Key=obj_key)\n",
    "    \n",
    "print(f\"Objects uploaded to folder '{pc_obj}' in bucket '{bucket}'.\")\n"
   ]
  },
  {
   "cell_type": "code",
   "execution_count": 32,
   "metadata": {},
   "outputs": [
    {
     "name": "stdout",
     "output_type": "stream",
     "text": [
      "STAC_LiDAR/DEM//home/cfolkers/STAC_LiDAR/DEM/bc_092o018_xli1m_utm10_2018 (2)_cog.tif\n",
      "Object Size 27945230\n",
      "STAC_LiDAR/DEM//home/cfolkers/STAC_LiDAR/DEM/bc_092o018_xli1m_utm10_2018_cog.tif\n",
      "Object Size 131166704\n",
      "STAC_LiDAR/DEM//home/cfolkers/STAC_LiDAR/DEM/bc_092o019_xli1m_utm10_2018 (2)_cog.tif\n",
      "Object Size 281923918\n",
      "STAC_LiDAR/DEM//home/cfolkers/STAC_LiDAR/DEM/bc_092o019_xli1m_utm10_2018_cog.tif\n",
      "Object Size 256676853\n",
      "STAC_LiDAR/DEM//home/cfolkers/STAC_LiDAR/DEM/bc_092o020_xli1m_utm10_2018 (2)_cog.tif\n",
      "Object Size 19758214\n",
      "STAC_LiDAR/DEM//home/cfolkers/STAC_LiDAR/DEM/bc_092o020_xli1m_utm10_2018_cog.tif\n",
      "Object Size 370620362\n",
      "STAC_LiDAR/DEM//home/cfolkers/STAC_LiDAR/DEM/bc_092o028_xli1m_utm10_2018_cog.tif\n",
      "Object Size 53380148\n",
      "STAC_LiDAR/DEM//home/cfolkers/STAC_LiDAR/DEM/bc_092o029_xli1m_utm10_2019_cog.tif\n",
      "Object Size 20150088\n",
      "STAC_LiDAR/DEM//home/cfolkers/STAC_LiDAR/DEM/bc_092o030_xli1m_utm10_2018_cog.tif\n",
      "Object Size 80279565\n"
     ]
    }
   ],
   "source": [
    "#list .laz objects in bucket\n",
    "# object_key=\"STAC_LiDAR/PointClouds/\"\n",
    "laz_objects=[]\n",
    "\n",
    "response = s3_client.list_objects_v2(Bucket=bucket, Prefix=pc_obj, StartAfter=pc_obj)\n",
    "\n",
    "if 'Contents' in response:\n",
    "    # Iterate over objects and print their names\n",
    "    for obj in response['Contents']:\n",
    "        laz_objects.append(obj['Key'])\n",
    "        print(obj['Key'])\n",
    "        print(f\"Object Size {obj['Size']}\")\n",
    "else:\n",
    "    print(\"No objects found in the bucket.\")"
   ]
  },
  {
   "cell_type": "code",
   "execution_count": 8,
   "metadata": {},
   "outputs": [],
   "source": [
    "### Run only to delete all objects \n",
    "\n",
    "response = s3_client.list_objects_v2(Bucket=bucket, Prefix=pc_obj, StartAfter=pc_obj)\n",
    "\n",
    "if 'Contents' in response:\n",
    "    # Iterate over objects and print their names\n",
    "    for obj in response['Contents']:\n",
    "        laz_objects.append(obj['Key'])\n",
    "        print(obj['Key'])\n",
    "        s3_client.delete_object(Bucket=bucket, Key=obj['Key']\n",
    "    )"
   ]
  }
 ],
 "metadata": {
  "kernelspec": {
   "display_name": "Python 3",
   "language": "python",
   "name": "python3"
  },
  "language_info": {
   "codemirror_mode": {
    "name": "ipython",
    "version": 3
   },
   "file_extension": ".py",
   "mimetype": "text/x-python",
   "name": "python",
   "nbconvert_exporter": "python",
   "pygments_lexer": "ipython3",
   "version": "3.11.7"
  }
 },
 "nbformat": 4,
 "nbformat_minor": 2
}
