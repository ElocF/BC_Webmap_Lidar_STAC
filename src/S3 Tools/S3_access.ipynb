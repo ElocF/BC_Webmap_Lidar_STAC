{
 "cells": [
  {
   "cell_type": "code",
   "execution_count": 37,
   "metadata": {},
   "outputs": [],
   "source": [
    "#https://github.com/bcgov/nr-objectstore-util/tree/main\n",
    "import NRUtil.NRObjStoreUtil\n"
   ]
  },
  {
   "cell_type": "code",
   "execution_count": 38,
   "metadata": {},
   "outputs": [],
   "source": [
    "ostore = s3_obj.ObjectStoreUtil(r'nrs.objectstore.gov.bc.ca', r\"bucket\", r\"secret key\", r\"user\" )\n"
   ]
  },
  {
   "cell_type": "code",
   "execution_count": null,
   "metadata": {},
   "outputs": [],
   "source": [
    "local_file= r'test.txt'\n",
    "\n",
    "with open(local_file, 'w') as fh:\n",
    "    fh.write('example example example\\n')\n",
    "    \n",
    "dest_file_path = '/junk/test.txt'\n",
    "ostore.put_object(local_path=local_file, ostore_path=dest_file_path)"
   ]
  },
  {
   "cell_type": "code",
   "execution_count": null,
   "metadata": {},
   "outputs": [],
   "source": [
    "pre_sign_url = ostore.get_presigned_url(object_name=dest_file_path, expires=180)\n",
    "print(f\"pre_sign_url: {pre_sign_url}\")"
   ]
  },
  {
   "cell_type": "code",
   "execution_count": 36,
   "metadata": {},
   "outputs": [],
   "source": [
    "# delete the remote object\n",
    "ostore.delete_remote_file(dest_file_path)"
   ]
  }
 ],
 "metadata": {
  "kernelspec": {
   "display_name": "stac_tools",
   "language": "python",
   "name": "python3"
  },
  "language_info": {
   "codemirror_mode": {
    "name": "ipython",
    "version": 3
   },
   "file_extension": ".py",
   "mimetype": "text/x-python",
   "name": "python",
   "nbconvert_exporter": "python",
   "pygments_lexer": "ipython3",
   "version": "3.11.7"
  }
 },
 "nbformat": 4,
 "nbformat_minor": 2
}
