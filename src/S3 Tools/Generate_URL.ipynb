{
 "cells": [
  {
   "cell_type": "code",
   "execution_count": null,
   "metadata": {},
   "outputs": [],
   "source": [
    "import logging\n",
    "import constants\n",
    "import boto3\n",
    "from botocore.exceptions import ClientError"
   ]
  },
  {
   "cell_type": "code",
   "execution_count": null,
   "metadata": {},
   "outputs": [],
   "source": [
    "# use third party object storage to create an S3 Client\n",
    "s3_client = boto3.client(\n",
    "    \"s3\",\n",
    "    endpoint_url=constants.AWS_S3_ENDPOINT,\n",
    "    aws_access_key_id=constants.AWS_ACCESS_KEY_ID,\n",
    "    aws_secret_access_key=constants.AWS_SECRET_ACCESS_KEY,\n",
    ")\n",
    "\n",
    "bucket = constants.AWS_S3_BUCKET"
   ]
  },
  {
   "cell_type": "code",
   "execution_count": null,
   "metadata": {},
   "outputs": [],
   "source": [
    "def create_url(bucket_name: str,\n",
    "            object_name: str):\n",
    " \n",
    "    \"\"\"\n",
    "           \n",
    "    This function takes a bucket name, an object name, and an expiration time (in seconds) and generates a URL download link for the object.\n",
    "\n",
    "    Arguments:\n",
    "        bucket_name: String of name of the bucket\n",
    "        object_name: Name of the object (key) that the URL will be pointed to\n",
    "\n",
    "    Returns:\n",
    "        Link of output (object download) URL\n",
    "        \n",
    "    Raises: \n",
    "        Exceptions raised will display an error message and be logged in the export.log file\n",
    "    \"\"\"\n",
    "    try:\n",
    "        response = constants.AWS_S3_ENDPOINT + bucket_name + '/' + object_name\n",
    "    except ClientError as e:\n",
    "        print(e)\n",
    "        return None\n",
    "    return response\n"
   ]
  },
  {
   "cell_type": "code",
   "execution_count": null,
   "metadata": {},
   "outputs": [],
   "source": [
    "def set_permissions(bucket_name: str,\n",
    "                    object_name: str,\n",
    "                    permissions='public-read'):\n",
    "    \"\"\"\n",
    "    This function takes a bucket name, an object name, and a permissions value (specified below) and sets the object's permissions to the value given.\n",
    "\n",
    "    Arguments:\n",
    "        bucket_name: String of name of the bucket\n",
    "        object_name: Name of the object (key) that the URL will be pointed to\n",
    "        permissions: If not specified, the permissions will default to 'public-read'. Otherwise, permissions can be found below:\n",
    "        'private'|'public-read'|'public-read-write'|'authenticated-read'|'aws-exec-read'|'bucket-owner-read'|'bucket-owner-full-control'\n",
    "\n",
    "    Returns:\n",
    "        Nothing\n",
    "        \n",
    "    Raises: \n",
    "        Exceptions raised will display an error message and be logged in the export.log file \n",
    "    \"\"\"\n",
    "\n",
    "    try:\n",
    "        response = s3_client.put_object_acl(ACL=permissions, Bucket=bucket_name, Key=object_name)\n",
    "        print(f'Set permissions on {object_name} success, set to {permissions}')\n",
    "    except Exception as e:\n",
    "        print(f'Error when setting permission: double check permission: {permissions}. Refer to help(set_permissions) for documentation.')\n",
    "        print(e)\n",
    "\n",
    "    return"
   ]
  },
  {
   "cell_type": "code",
   "execution_count": null,
   "metadata": {},
   "outputs": [],
   "source": [
    "# example\n",
    "set_permissions(bucket, 'how2find_imagery_120114.pdf') # default is public-read\n",
    "create_url(bucket, 'how2find_imagery_120114.pdf')"
   ]
  }
 ],
 "metadata": {
  "kernelspec": {
   "display_name": "Python 3",
   "language": "python",
   "name": "python3"
  },
  "language_info": {
   "codemirror_mode": {
    "name": "ipython",
    "version": 3
   },
   "file_extension": ".py",
   "mimetype": "text/x-python",
   "name": "python",
   "nbconvert_exporter": "python",
   "pygments_lexer": "ipython3",
   "version": "3.12.2"
  }
 },
 "nbformat": 4,
 "nbformat_minor": 2
}
